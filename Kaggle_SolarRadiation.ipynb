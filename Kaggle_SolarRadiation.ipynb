{
 "cells": [
  {
   "cell_type": "code",
   "execution_count": 261,
   "metadata": {},
   "outputs": [],
   "source": [
    "import numpy as np\n",
    "import pandas as pd\n",
    "import matplotlib.pyplot as plt\n",
    "%matplotlib inline\n",
    "import seaborn as sns"
   ]
  },
  {
   "cell_type": "markdown",
   "metadata": {},
   "source": []
  },
  {
   "cell_type": "markdown",
   "metadata": {},
   "source": [
    "## About the data set:\n",
    "\n",
    "These datasets are meteorological data from the HI-SEAS weather station from four months (September through December 2016) between Mission IV and Mission V.\n",
    "\n",
    "For each dataset, the fields are:\n",
    "\n",
    "A row number (1-n) useful in sorting this export's results\n",
    "The UNIX time_t date (seconds since Jan 1, 1970). Useful in sorting this export's results with other export's results\n",
    "The date in yyyy-mm-dd format\n",
    "The local time of day in hh:mm:ss 24-hour format\n",
    "The numeric data, if any (may be an empty string)\n",
    "The text data, if any (may be an empty string)\n",
    "\n",
    "The units of each dataset are:\n",
    "\n",
    "--Solar radiation: watts per meter^2\n",
    "\n",
    "--Temperature: degrees Fahrenheit\n",
    "\n",
    "--Humidity: percent\n",
    "\n",
    "--Barometric pressure: Hg\n",
    "\n",
    "--Wind direction: degrees\n",
    "\n",
    "--Wind speed: miles per hour\n",
    "\n",
    "--Sunrise/sunset: Hawaii time"
   ]
  },
  {
   "cell_type": "markdown",
   "metadata": {},
   "source": [
    "# Explore the data to gain insights"
   ]
  },
  {
   "cell_type": "code",
   "execution_count": 262,
   "metadata": {
    "scrolled": true
   },
   "outputs": [
    {
     "data": {
      "text/html": [
       "<div>\n",
       "<style scoped>\n",
       "    .dataframe tbody tr th:only-of-type {\n",
       "        vertical-align: middle;\n",
       "    }\n",
       "\n",
       "    .dataframe tbody tr th {\n",
       "        vertical-align: top;\n",
       "    }\n",
       "\n",
       "    .dataframe thead th {\n",
       "        text-align: right;\n",
       "    }\n",
       "</style>\n",
       "<table border=\"1\" class=\"dataframe\">\n",
       "  <thead>\n",
       "    <tr style=\"text-align: right;\">\n",
       "      <th></th>\n",
       "      <th>UNIXTime</th>\n",
       "      <th>Data</th>\n",
       "      <th>Time</th>\n",
       "      <th>Radiation</th>\n",
       "      <th>Temperature</th>\n",
       "      <th>Pressure</th>\n",
       "      <th>Humidity</th>\n",
       "      <th>WindDirection(Degrees)</th>\n",
       "      <th>Speed</th>\n",
       "      <th>TimeSunRise</th>\n",
       "      <th>TimeSunSet</th>\n",
       "    </tr>\n",
       "  </thead>\n",
       "  <tbody>\n",
       "    <tr>\n",
       "      <th>7416</th>\n",
       "      <td>1472724008</td>\n",
       "      <td>9/1/2016 12:00:00 AM</td>\n",
       "      <td>00:00:08</td>\n",
       "      <td>2.58</td>\n",
       "      <td>51</td>\n",
       "      <td>30.43</td>\n",
       "      <td>103</td>\n",
       "      <td>77.27</td>\n",
       "      <td>11.25</td>\n",
       "      <td>06:07:00</td>\n",
       "      <td>18:38:00</td>\n",
       "    </tr>\n",
       "    <tr>\n",
       "      <th>7415</th>\n",
       "      <td>1472724310</td>\n",
       "      <td>9/1/2016 12:00:00 AM</td>\n",
       "      <td>00:05:10</td>\n",
       "      <td>2.83</td>\n",
       "      <td>51</td>\n",
       "      <td>30.43</td>\n",
       "      <td>103</td>\n",
       "      <td>153.44</td>\n",
       "      <td>9.00</td>\n",
       "      <td>06:07:00</td>\n",
       "      <td>18:38:00</td>\n",
       "    </tr>\n",
       "    <tr>\n",
       "      <th>7414</th>\n",
       "      <td>1472725206</td>\n",
       "      <td>9/1/2016 12:00:00 AM</td>\n",
       "      <td>00:20:06</td>\n",
       "      <td>2.16</td>\n",
       "      <td>51</td>\n",
       "      <td>30.43</td>\n",
       "      <td>103</td>\n",
       "      <td>142.04</td>\n",
       "      <td>7.87</td>\n",
       "      <td>06:07:00</td>\n",
       "      <td>18:38:00</td>\n",
       "    </tr>\n",
       "    <tr>\n",
       "      <th>7413</th>\n",
       "      <td>1472725505</td>\n",
       "      <td>9/1/2016 12:00:00 AM</td>\n",
       "      <td>00:25:05</td>\n",
       "      <td>2.21</td>\n",
       "      <td>51</td>\n",
       "      <td>30.43</td>\n",
       "      <td>103</td>\n",
       "      <td>144.12</td>\n",
       "      <td>18.00</td>\n",
       "      <td>06:07:00</td>\n",
       "      <td>18:38:00</td>\n",
       "    </tr>\n",
       "    <tr>\n",
       "      <th>7412</th>\n",
       "      <td>1472725809</td>\n",
       "      <td>9/1/2016 12:00:00 AM</td>\n",
       "      <td>00:30:09</td>\n",
       "      <td>2.25</td>\n",
       "      <td>51</td>\n",
       "      <td>30.43</td>\n",
       "      <td>103</td>\n",
       "      <td>67.42</td>\n",
       "      <td>11.25</td>\n",
       "      <td>06:07:00</td>\n",
       "      <td>18:38:00</td>\n",
       "    </tr>\n",
       "  </tbody>\n",
       "</table>\n",
       "</div>"
      ],
      "text/plain": [
       "        UNIXTime                  Data      Time  Radiation  Temperature  \\\n",
       "7416  1472724008  9/1/2016 12:00:00 AM  00:00:08       2.58           51   \n",
       "7415  1472724310  9/1/2016 12:00:00 AM  00:05:10       2.83           51   \n",
       "7414  1472725206  9/1/2016 12:00:00 AM  00:20:06       2.16           51   \n",
       "7413  1472725505  9/1/2016 12:00:00 AM  00:25:05       2.21           51   \n",
       "7412  1472725809  9/1/2016 12:00:00 AM  00:30:09       2.25           51   \n",
       "\n",
       "      Pressure  Humidity  WindDirection(Degrees)  Speed TimeSunRise TimeSunSet  \n",
       "7416     30.43       103                   77.27  11.25    06:07:00   18:38:00  \n",
       "7415     30.43       103                  153.44   9.00    06:07:00   18:38:00  \n",
       "7414     30.43       103                  142.04   7.87    06:07:00   18:38:00  \n",
       "7413     30.43       103                  144.12  18.00    06:07:00   18:38:00  \n",
       "7412     30.43       103                   67.42  11.25    06:07:00   18:38:00  "
      ]
     },
     "execution_count": 262,
     "metadata": {},
     "output_type": "execute_result"
    }
   ],
   "source": [
    "#Loading the data into a pandas data frame\n",
    "\n",
    "Data = pd.read_csv(\"SolarPrediction.csv\")\n",
    "Data = Data.sort_values(['UNIXTime'], ascending = [True])\n",
    "Data.head()"
   ]
  },
  {
   "cell_type": "markdown",
   "metadata": {},
   "source": [
    "Note that the 'Temperature' column is in degrees Fahrenheit. We decided to transform it in Celsius"
   ]
  },
  {
   "cell_type": "code",
   "execution_count": 263,
   "metadata": {},
   "outputs": [],
   "source": [
    "def celsius(F):\n",
    "    '''Convert Fahrenheit into Celsius'''\n",
    "    return (F-32)/1.8\n",
    "\n",
    "Temp_c = [round(celsius(F),0) for F in Data['Temperature'].values] #List of Celsius Values"
   ]
  },
  {
   "cell_type": "code",
   "execution_count": 264,
   "metadata": {},
   "outputs": [],
   "source": [
    "#Changing the values in the dataframe\n",
    "for index,celsius in enumerate(Temp_c):\n",
    "    Data['Temperature'].values[index] = celsius   "
   ]
  },
  {
   "cell_type": "markdown",
   "metadata": {},
   "source": [
    "We also want to add a 'month' column in order to group our data and make month predictions"
   ]
  },
  {
   "cell_type": "code",
   "execution_count": 265,
   "metadata": {},
   "outputs": [],
   "source": [
    "# I decide to use numerical values for the month column and convert to string when plotting... (memory :) ) \n",
    "\n",
    "num_month = []\n",
    "\n",
    "for month in Data[\"Data\"].values:  #Take a look in how the objct is given in the \"Data\" column\n",
    "    if int(month[0]) == 9:   # In month 9 we want the first index\n",
    "        num_month.append(9)\n",
    "    if int(month[0]) == 1: # In months 10,11,12 we want the first 2 index\n",
    "        num_month.append(int(month[:2]))"
   ]
  },
  {
   "cell_type": "code",
   "execution_count": 266,
   "metadata": {},
   "outputs": [],
   "source": [
    "# I decide to use numerical values for the month column and convert to string when plotting... (memory :) ) \n",
    "\n",
    "num_month_df = pd.DataFrame({'Month': num_month}) # Creating a dataframe \n",
    "   \n",
    "Data = Data.join(num_month_df) # Merging both data frames  "
   ]
  },
  {
   "cell_type": "code",
   "execution_count": 267,
   "metadata": {},
   "outputs": [
    {
     "data": {
      "text/html": [
       "<div>\n",
       "<style scoped>\n",
       "    .dataframe tbody tr th:only-of-type {\n",
       "        vertical-align: middle;\n",
       "    }\n",
       "\n",
       "    .dataframe tbody tr th {\n",
       "        vertical-align: top;\n",
       "    }\n",
       "\n",
       "    .dataframe thead th {\n",
       "        text-align: right;\n",
       "    }\n",
       "</style>\n",
       "<table border=\"1\" class=\"dataframe\">\n",
       "  <thead>\n",
       "    <tr style=\"text-align: right;\">\n",
       "      <th></th>\n",
       "      <th>UNIXTime</th>\n",
       "      <th>Data</th>\n",
       "      <th>Time</th>\n",
       "      <th>Radiation</th>\n",
       "      <th>Temperature</th>\n",
       "      <th>Pressure</th>\n",
       "      <th>Humidity</th>\n",
       "      <th>WindDirection(Degrees)</th>\n",
       "      <th>Speed</th>\n",
       "      <th>TimeSunRise</th>\n",
       "      <th>TimeSunSet</th>\n",
       "      <th>Month</th>\n",
       "    </tr>\n",
       "  </thead>\n",
       "  <tbody>\n",
       "    <tr>\n",
       "      <th>7416</th>\n",
       "      <td>1472724008</td>\n",
       "      <td>9/1/2016 12:00:00 AM</td>\n",
       "      <td>00:00:08</td>\n",
       "      <td>2.58</td>\n",
       "      <td>11</td>\n",
       "      <td>30.43</td>\n",
       "      <td>103</td>\n",
       "      <td>77.27</td>\n",
       "      <td>11.25</td>\n",
       "      <td>06:07:00</td>\n",
       "      <td>18:38:00</td>\n",
       "      <td>9</td>\n",
       "    </tr>\n",
       "    <tr>\n",
       "      <th>7415</th>\n",
       "      <td>1472724310</td>\n",
       "      <td>9/1/2016 12:00:00 AM</td>\n",
       "      <td>00:05:10</td>\n",
       "      <td>2.83</td>\n",
       "      <td>11</td>\n",
       "      <td>30.43</td>\n",
       "      <td>103</td>\n",
       "      <td>153.44</td>\n",
       "      <td>9.00</td>\n",
       "      <td>06:07:00</td>\n",
       "      <td>18:38:00</td>\n",
       "      <td>9</td>\n",
       "    </tr>\n",
       "    <tr>\n",
       "      <th>7414</th>\n",
       "      <td>1472725206</td>\n",
       "      <td>9/1/2016 12:00:00 AM</td>\n",
       "      <td>00:20:06</td>\n",
       "      <td>2.16</td>\n",
       "      <td>11</td>\n",
       "      <td>30.43</td>\n",
       "      <td>103</td>\n",
       "      <td>142.04</td>\n",
       "      <td>7.87</td>\n",
       "      <td>06:07:00</td>\n",
       "      <td>18:38:00</td>\n",
       "      <td>9</td>\n",
       "    </tr>\n",
       "    <tr>\n",
       "      <th>7413</th>\n",
       "      <td>1472725505</td>\n",
       "      <td>9/1/2016 12:00:00 AM</td>\n",
       "      <td>00:25:05</td>\n",
       "      <td>2.21</td>\n",
       "      <td>11</td>\n",
       "      <td>30.43</td>\n",
       "      <td>103</td>\n",
       "      <td>144.12</td>\n",
       "      <td>18.00</td>\n",
       "      <td>06:07:00</td>\n",
       "      <td>18:38:00</td>\n",
       "      <td>9</td>\n",
       "    </tr>\n",
       "    <tr>\n",
       "      <th>7412</th>\n",
       "      <td>1472725809</td>\n",
       "      <td>9/1/2016 12:00:00 AM</td>\n",
       "      <td>00:30:09</td>\n",
       "      <td>2.25</td>\n",
       "      <td>11</td>\n",
       "      <td>30.43</td>\n",
       "      <td>103</td>\n",
       "      <td>67.42</td>\n",
       "      <td>11.25</td>\n",
       "      <td>06:07:00</td>\n",
       "      <td>18:38:00</td>\n",
       "      <td>9</td>\n",
       "    </tr>\n",
       "  </tbody>\n",
       "</table>\n",
       "</div>"
      ],
      "text/plain": [
       "        UNIXTime                  Data      Time  Radiation  Temperature  \\\n",
       "7416  1472724008  9/1/2016 12:00:00 AM  00:00:08       2.58           11   \n",
       "7415  1472724310  9/1/2016 12:00:00 AM  00:05:10       2.83           11   \n",
       "7414  1472725206  9/1/2016 12:00:00 AM  00:20:06       2.16           11   \n",
       "7413  1472725505  9/1/2016 12:00:00 AM  00:25:05       2.21           11   \n",
       "7412  1472725809  9/1/2016 12:00:00 AM  00:30:09       2.25           11   \n",
       "\n",
       "      Pressure  Humidity  WindDirection(Degrees)  Speed TimeSunRise  \\\n",
       "7416     30.43       103                   77.27  11.25    06:07:00   \n",
       "7415     30.43       103                  153.44   9.00    06:07:00   \n",
       "7414     30.43       103                  142.04   7.87    06:07:00   \n",
       "7413     30.43       103                  144.12  18.00    06:07:00   \n",
       "7412     30.43       103                   67.42  11.25    06:07:00   \n",
       "\n",
       "     TimeSunSet  Month  \n",
       "7416   18:38:00      9  \n",
       "7415   18:38:00      9  \n",
       "7414   18:38:00      9  \n",
       "7413   18:38:00      9  \n",
       "7412   18:38:00      9  "
      ]
     },
     "execution_count": 267,
     "metadata": {},
     "output_type": "execute_result"
    }
   ],
   "source": [
    "# Now we check our changes:\n",
    "\n",
    "Data.head() # Note that we added a month column and we converted the temperature to celsius"
   ]
  },
  {
   "cell_type": "code",
   "execution_count": 268,
   "metadata": {
    "scrolled": true
   },
   "outputs": [
    {
     "name": "stdout",
     "output_type": "stream",
     "text": [
      "<class 'pandas.core.frame.DataFrame'>\n",
      "Int64Index: 32686 entries, 7416 to 24522\n",
      "Data columns (total 12 columns):\n",
      "UNIXTime                  32686 non-null int64\n",
      "Data                      32686 non-null object\n",
      "Time                      32686 non-null object\n",
      "Radiation                 32686 non-null float64\n",
      "Temperature               32686 non-null int64\n",
      "Pressure                  32686 non-null float64\n",
      "Humidity                  32686 non-null int64\n",
      "WindDirection(Degrees)    32686 non-null float64\n",
      "Speed                     32686 non-null float64\n",
      "TimeSunRise               32686 non-null object\n",
      "TimeSunSet                32686 non-null object\n",
      "Month                     32686 non-null int64\n",
      "dtypes: float64(4), int64(4), object(4)\n",
      "memory usage: 4.5+ MB\n"
     ]
    }
   ],
   "source": [
    "#Checking the data-type of the columns and if we have missing entries\n",
    "\n",
    "Data.info()"
   ]
  },
  {
   "cell_type": "markdown",
   "metadata": {},
   "source": [
    "The most precise approach would be to make a model based on the given dava of time, date, unixtime, etc... But as we know, the others attributes are dependents of those (e.g. temp has a dependence on season), so to simplify our analysis we will just drop those attributes and try to find key features to create our model\n",
    "\n",
    "\n",
    "So all the 'object' columns is not important neither is 'UNIXTime', let's drop them\n",
    "\n",
    "*** Probably is a good idea to make an future analysis also based on time, maybe reasulting in a richer model or at least a richer visualization *** "
   ]
  },
  {
   "cell_type": "code",
   "execution_count": 269,
   "metadata": {},
   "outputs": [],
   "source": [
    "Data = Data.drop([\n",
    "    'UNIXTime',\n",
    "    'Data',\n",
    "    'Time',\n",
    "    'TimeSunRise',\n",
    "    'TimeSunSet'],\n",
    "    axis = 1) "
   ]
  },
  {
   "cell_type": "code",
   "execution_count": 270,
   "metadata": {},
   "outputs": [
    {
     "data": {
      "text/html": [
       "<div>\n",
       "<style scoped>\n",
       "    .dataframe tbody tr th:only-of-type {\n",
       "        vertical-align: middle;\n",
       "    }\n",
       "\n",
       "    .dataframe tbody tr th {\n",
       "        vertical-align: top;\n",
       "    }\n",
       "\n",
       "    .dataframe thead th {\n",
       "        text-align: right;\n",
       "    }\n",
       "</style>\n",
       "<table border=\"1\" class=\"dataframe\">\n",
       "  <thead>\n",
       "    <tr style=\"text-align: right;\">\n",
       "      <th></th>\n",
       "      <th>Radiation</th>\n",
       "      <th>Temperature</th>\n",
       "      <th>Pressure</th>\n",
       "      <th>Humidity</th>\n",
       "      <th>WindDirection(Degrees)</th>\n",
       "      <th>Speed</th>\n",
       "      <th>Month</th>\n",
       "    </tr>\n",
       "  </thead>\n",
       "  <tbody>\n",
       "    <tr>\n",
       "      <th>count</th>\n",
       "      <td>32686.000000</td>\n",
       "      <td>32686.000000</td>\n",
       "      <td>32686.000000</td>\n",
       "      <td>32686.000000</td>\n",
       "      <td>32686.000000</td>\n",
       "      <td>32686.000000</td>\n",
       "      <td>32686.000000</td>\n",
       "    </tr>\n",
       "    <tr>\n",
       "      <th>mean</th>\n",
       "      <td>207.124697</td>\n",
       "      <td>10.600196</td>\n",
       "      <td>30.422879</td>\n",
       "      <td>75.016307</td>\n",
       "      <td>143.489821</td>\n",
       "      <td>6.243869</td>\n",
       "      <td>10.526066</td>\n",
       "    </tr>\n",
       "    <tr>\n",
       "      <th>std</th>\n",
       "      <td>315.916387</td>\n",
       "      <td>3.471827</td>\n",
       "      <td>0.054673</td>\n",
       "      <td>25.990219</td>\n",
       "      <td>83.167500</td>\n",
       "      <td>3.490474</td>\n",
       "      <td>1.096691</td>\n",
       "    </tr>\n",
       "    <tr>\n",
       "      <th>min</th>\n",
       "      <td>1.110000</td>\n",
       "      <td>1.000000</td>\n",
       "      <td>30.190000</td>\n",
       "      <td>8.000000</td>\n",
       "      <td>0.090000</td>\n",
       "      <td>0.000000</td>\n",
       "      <td>9.000000</td>\n",
       "    </tr>\n",
       "    <tr>\n",
       "      <th>25%</th>\n",
       "      <td>1.230000</td>\n",
       "      <td>8.000000</td>\n",
       "      <td>30.400000</td>\n",
       "      <td>56.000000</td>\n",
       "      <td>82.227500</td>\n",
       "      <td>3.370000</td>\n",
       "      <td>10.000000</td>\n",
       "    </tr>\n",
       "    <tr>\n",
       "      <th>50%</th>\n",
       "      <td>2.660000</td>\n",
       "      <td>10.000000</td>\n",
       "      <td>30.430000</td>\n",
       "      <td>85.000000</td>\n",
       "      <td>147.700000</td>\n",
       "      <td>5.620000</td>\n",
       "      <td>11.000000</td>\n",
       "    </tr>\n",
       "    <tr>\n",
       "      <th>75%</th>\n",
       "      <td>354.235000</td>\n",
       "      <td>13.000000</td>\n",
       "      <td>30.460000</td>\n",
       "      <td>97.000000</td>\n",
       "      <td>179.310000</td>\n",
       "      <td>7.870000</td>\n",
       "      <td>11.000000</td>\n",
       "    </tr>\n",
       "    <tr>\n",
       "      <th>max</th>\n",
       "      <td>1601.260000</td>\n",
       "      <td>22.000000</td>\n",
       "      <td>30.560000</td>\n",
       "      <td>103.000000</td>\n",
       "      <td>359.950000</td>\n",
       "      <td>40.500000</td>\n",
       "      <td>12.000000</td>\n",
       "    </tr>\n",
       "  </tbody>\n",
       "</table>\n",
       "</div>"
      ],
      "text/plain": [
       "          Radiation   Temperature      Pressure      Humidity  \\\n",
       "count  32686.000000  32686.000000  32686.000000  32686.000000   \n",
       "mean     207.124697     10.600196     30.422879     75.016307   \n",
       "std      315.916387      3.471827      0.054673     25.990219   \n",
       "min        1.110000      1.000000     30.190000      8.000000   \n",
       "25%        1.230000      8.000000     30.400000     56.000000   \n",
       "50%        2.660000     10.000000     30.430000     85.000000   \n",
       "75%      354.235000     13.000000     30.460000     97.000000   \n",
       "max     1601.260000     22.000000     30.560000    103.000000   \n",
       "\n",
       "       WindDirection(Degrees)         Speed         Month  \n",
       "count            32686.000000  32686.000000  32686.000000  \n",
       "mean               143.489821      6.243869     10.526066  \n",
       "std                 83.167500      3.490474      1.096691  \n",
       "min                  0.090000      0.000000      9.000000  \n",
       "25%                 82.227500      3.370000     10.000000  \n",
       "50%                147.700000      5.620000     11.000000  \n",
       "75%                179.310000      7.870000     11.000000  \n",
       "max                359.950000     40.500000     12.000000  "
      ]
     },
     "execution_count": 270,
     "metadata": {},
     "output_type": "execute_result"
    }
   ],
   "source": [
    "#Using the describe() method to gain some fast insights about the data\n",
    "\n",
    "Data.describe()"
   ]
  },
  {
   "cell_type": "markdown",
   "metadata": {},
   "source": [
    "The first thing we have to have in mind is what we wanna do. Our goal in that project is to predict the level of solar radiation.\n",
    "\n",
    "We can see that all entries are 'non-null' wich will make our work easier.\n",
    "\n",
    "We can also see that the standard deviation of 'Pressure' is pretty low and the standard deviation of 'Radiation' is the greater of all features. So, if Pressure is almost constant while Radiation has a high standard deviation, we can assume that pressure is not an important feature to our goal."
   ]
  },
  {
   "cell_type": "code",
   "execution_count": 271,
   "metadata": {},
   "outputs": [
    {
     "data": {
      "image/png": "[encoded data removed]",
      "text/plain": [
       "<Figure size 1440x1080 with 9 Axes>"
      ]
     },
     "metadata": {
      "needs_background": "light"
     },
     "output_type": "display_data"
    }
   ],
   "source": [
    "#Plotting a histogram of each numerical feature in order to gain more insights\n",
    "\n",
    "Data.hist(bins=50, figsize=(20,15))\n",
    "plt.show()"
   ]
  },
  {
   "cell_type": "code",
   "execution_count": 272,
   "metadata": {},
   "outputs": [
    {
     "data": {
      "text/plain": [
       "<matplotlib.axes._subplots.AxesSubplot at 0x22c58e2d278>"
      ]
     },
     "execution_count": 272,
     "metadata": {},
     "output_type": "execute_result"
    },
    {
     "data": {
      "image/png": "[encoded data removed]",
      "text/plain": [
       "<Figure size 1080x1080 with 2 Axes>"
      ]
     },
     "metadata": {
      "needs_background": "light"
     },
     "output_type": "display_data"
    }
   ],
   "source": [
    "#Creating a correlation heatmap using seaborn\n",
    "\n",
    "cor = Data.corr()\n",
    "plt.figure(figsize=(15,15))\n",
    "sns.heatmap(cor, annot=True)"
   ]
  },
  {
   "cell_type": "markdown",
   "metadata": {},
   "source": [
    "With that correlation heatmap it's easier to see wich feature is most important for the model we want to create.\n",
    "\n",
    "As you can see the highest correlation (magnitude) with Radiation is 'Temperature' (pos. correlated, 0.73), followed by 'Humidity' and 'WindDirection' (both neg. correlated, -0.23)"
   ]
  },
  {
   "cell_type": "markdown",
   "metadata": {},
   "source": [
    "Let's plot those attributes"
   ]
  },
  {
   "cell_type": "code",
   "execution_count": 273,
   "metadata": {},
   "outputs": [
    {
     "data": {
      "text/plain": [
       "<seaborn.axisgrid.JointGrid at 0x22c62c9b5f8>"
      ]
     },
     "execution_count": 273,
     "metadata": {},
     "output_type": "execute_result"
    },
    {
     "data": {
      "image/png": "[encoded data removed]",
      "text/plain": [
       "<Figure size 432x432 with 3 Axes>"
      ]
     },
     "metadata": {
      "needs_background": "light"
     },
     "output_type": "display_data"
    }
   ],
   "source": [
    "sns.jointplot(x=\"Radiation\", y=\"Temperature\", data=Data)"
   ]
  },
  {
   "cell_type": "code",
   "execution_count": 274,
   "metadata": {},
   "outputs": [
    {
     "data": {
      "image/png": "[encoded data removed]",
      "text/plain": [
       "<Figure size 432x288 with 1 Axes>"
      ]
     },
     "metadata": {
      "needs_background": "light"
     },
     "output_type": "display_data"
    }
   ],
   "source": [
    "plt.scatter(Data['Temperature'].values, Data['Radiation'].values, label='Sample Data', s=10)\n",
    "plt.xlabel('Temperature')\n",
    "plt.ylabel('Radiation')\n",
    "plt.legend()\n",
    "plt.show()"
   ]
  },
  {
   "cell_type": "markdown",
   "metadata": {},
   "source": [
    "# Creating a test set    (testando, jaja comento) "
   ]
  },
  {
   "cell_type": "code",
   "execution_count": 275,
   "metadata": {},
   "outputs": [],
   "source": [
    "# As seen in the correlation heatmap the Temperature is a key feature\n",
    "\n",
    "Data[\"Temp\"] = pd.cut(Data[\"Temperature\"],  \n",
    "                               bins=[0.,5,10,15,20, np.inf],\n",
    "                               labels=[1,2,3,4,5])   # Creating strata"
   ]
  },
  {
   "cell_type": "code",
   "execution_count": 276,
   "metadata": {},
   "outputs": [
    {
     "data": {
      "image/png": "[encoded data removed]",
      "text/plain": [
       "<Figure size 432x288 with 2 Axes>"
      ]
     },
     "metadata": {
      "needs_background": "light"
     },
     "output_type": "display_data"
    }
   ],
   "source": [
    "figs, axes = plt.subplots(1,2) # Check if divisions were well chosen \n",
    "plt.tight_layout() \n",
    "\n",
    "axes[0].hist(Data[\"Temperature\"], bins = 50) \n",
    "axes[1].hist(Data[\"Temp\"])\n",
    "\n",
    "plt.show()"
   ]
  },
  {
   "cell_type": "code",
   "execution_count": 277,
   "metadata": {},
   "outputs": [],
   "source": [
    "#Using the stratifiedshufflesplit \n",
    "from sklearn.model_selection import train_test_split\n",
    "from sklearn.model_selection import StratifiedShuffleSplit\n",
    "\n",
    "\n",
    "split = StratifiedShuffleSplit(n_splits=1, test_size=0.2, random_state=42)\n",
    "for train_index, test_index in split.split(Data, Data['Temp']):\n",
    "    strat_train_set = Data.loc[train_index]\n",
    "    strat_test_set = Data.loc[test_index] "
   ]
  },
  {
   "cell_type": "code",
   "execution_count": 278,
   "metadata": {},
   "outputs": [
    {
     "data": {
      "text/plain": [
       "2    0.508834\n",
       "3    0.340370\n",
       "4    0.118173\n",
       "1    0.029830\n",
       "5    0.002792\n",
       "Name: Temp, dtype: float64"
      ]
     },
     "execution_count": 278,
     "metadata": {},
     "output_type": "execute_result"
    }
   ],
   "source": [
    "strat_train_set['Temp'].value_counts() / len(strat_train_set['Temp']) # Check proportions "
   ]
  },
  {
   "cell_type": "code",
   "execution_count": 279,
   "metadata": {},
   "outputs": [
    {
     "data": {
      "text/plain": [
       "2    0.507649\n",
       "3    0.341002\n",
       "4    0.118828\n",
       "1    0.029799\n",
       "5    0.002723\n",
       "Name: Temp, dtype: float64"
      ]
     },
     "execution_count": 279,
     "metadata": {},
     "output_type": "execute_result"
    }
   ],
   "source": [
    "Data['Temp'].value_counts() / len(Data['Temp']) # Representativity is maintained "
   ]
  },
  {
   "cell_type": "code",
   "execution_count": 280,
   "metadata": {},
   "outputs": [],
   "source": [
    "for set_ in (strat_train_set, strat_test_set):  # Remove strata \n",
    "    set_.drop(\"Temp\", axis=1, inplace=True)"
   ]
  },
  {
   "cell_type": "code",
   "execution_count": 290,
   "metadata": {},
   "outputs": [],
   "source": [
    "df_strat = strat_train_set.copy() # Don't want to mess with the original train set"
   ]
  },
  {
   "cell_type": "code",
   "execution_count": 291,
   "metadata": {},
   "outputs": [],
   "source": [
    "df_strat_ts = df_strat.drop('Radiation', axis=1) # Remove target feature"
   ]
  },
  {
   "cell_type": "code",
   "execution_count": 295,
   "metadata": {},
   "outputs": [],
   "source": [
    "df_labels = df_strat['Radiation'].copy() # Get labels for training"
   ]
  },
  {
   "cell_type": "markdown",
   "metadata": {},
   "source": [
    "# Making some plots (jaja comento melhor)"
   ]
  },
  {
   "cell_type": "markdown",
   "metadata": {},
   "source": [
    "Now we wanna see the mean Temperature of each month"
   ]
  },
  {
   "cell_type": "code",
   "execution_count": 283,
   "metadata": {},
   "outputs": [
    {
     "data": {
      "text/html": [
       "<div>\n",
       "<style scoped>\n",
       "    .dataframe tbody tr th:only-of-type {\n",
       "        vertical-align: middle;\n",
       "    }\n",
       "\n",
       "    .dataframe tbody tr th {\n",
       "        vertical-align: top;\n",
       "    }\n",
       "\n",
       "    .dataframe thead th {\n",
       "        text-align: right;\n",
       "    }\n",
       "</style>\n",
       "<table border=\"1\" class=\"dataframe\">\n",
       "  <thead>\n",
       "    <tr style=\"text-align: right;\">\n",
       "      <th></th>\n",
       "      <th>Temperature</th>\n",
       "      <th>Pressure</th>\n",
       "      <th>Humidity</th>\n",
       "      <th>WindDirection(Degrees)</th>\n",
       "      <th>Speed</th>\n",
       "    </tr>\n",
       "    <tr>\n",
       "      <th>Month</th>\n",
       "      <th></th>\n",
       "      <th></th>\n",
       "      <th></th>\n",
       "      <th></th>\n",
       "      <th></th>\n",
       "    </tr>\n",
       "  </thead>\n",
       "  <tbody>\n",
       "    <tr>\n",
       "      <th>9</th>\n",
       "      <td>12.065056</td>\n",
       "      <td>30.432007</td>\n",
       "      <td>79.512673</td>\n",
       "      <td>134.946773</td>\n",
       "      <td>5.446916</td>\n",
       "    </tr>\n",
       "    <tr>\n",
       "      <th>10</th>\n",
       "      <td>11.347042</td>\n",
       "      <td>30.438454</td>\n",
       "      <td>78.773099</td>\n",
       "      <td>126.483914</td>\n",
       "      <td>5.890439</td>\n",
       "    </tr>\n",
       "    <tr>\n",
       "      <th>11</th>\n",
       "      <td>10.431639</td>\n",
       "      <td>30.445855</td>\n",
       "      <td>62.457502</td>\n",
       "      <td>134.845404</td>\n",
       "      <td>6.851295</td>\n",
       "    </tr>\n",
       "    <tr>\n",
       "      <th>12</th>\n",
       "      <td>8.606628</td>\n",
       "      <td>30.374475</td>\n",
       "      <td>79.373581</td>\n",
       "      <td>177.916623</td>\n",
       "      <td>6.762705</td>\n",
       "    </tr>\n",
       "  </tbody>\n",
       "</table>\n",
       "</div>"
      ],
      "text/plain": [
       "       Temperature   Pressure   Humidity  WindDirection(Degrees)     Speed\n",
       "Month                                                                     \n",
       "9        12.065056  30.432007  79.512673              134.946773  5.446916\n",
       "10       11.347042  30.438454  78.773099              126.483914  5.890439\n",
       "11       10.431639  30.445855  62.457502              134.845404  6.851295\n",
       "12        8.606628  30.374475  79.373581              177.916623  6.762705"
      ]
     },
     "execution_count": 283,
     "metadata": {},
     "output_type": "execute_result"
    }
   ],
   "source": [
    "# Using the pandas method \"groupby\" we can groupy our features in respect to the column \"Month\"\n",
    "\n",
    "df_strat.groupby(['Month']).mean()"
   ]
  },
  {
   "cell_type": "code",
   "execution_count": 284,
   "metadata": {},
   "outputs": [
    {
     "data": {
      "image/png": "[encoded data removed]",
      "text/plain": [
       "<Figure size 432x288 with 1 Axes>"
      ]
     },
     "metadata": {
      "needs_background": "light"
     },
     "output_type": "display_data"
    }
   ],
   "source": [
    "#Creating a bar plot of the mean temperature(Celsius) of a given month\n",
    "\n",
    "mean_temperature_month = Data.groupby(['Month']).mean()[\"Temperature\"].values #array with the mean temperature of each month\n",
    "\n",
    "fig = plt.figure()\n",
    "ax = fig.add_axes([0,0,1,1])\n",
    "str_months = [\"September\", \"October\", \"November\", \"December\"]\n",
    "ax.bar(str_months,mean_temperature_month)\n",
    "plt.ylabel(\"Temperature(ºC)\")\n",
    "plt.title(\"Mean Temperature\",fontweight=\"bold\")\n",
    "\n",
    "\n",
    "#We can stylize it better, taking a break now... \n",
    "\n",
    "plt.show()"
   ]
  },
  {
   "cell_type": "markdown",
   "metadata": {},
   "source": [
    "# Preprocessing the data"
   ]
  },
  {
   "cell_type": "markdown",
   "metadata": {},
   "source": [
    "## Feature Scaling\n",
    "It is important to standarize the scaling of different features so that the algorithms can better evaulate their importance. For that, we construct a transformation pipeline."
   ]
  },
  {
   "cell_type": "code",
   "execution_count": 285,
   "metadata": {},
   "outputs": [],
   "source": [
    "from sklearn.pipeline import Pipeline\n",
    "from sklearn.preprocessing import StandardScaler"
   ]
  },
  {
   "cell_type": "code",
   "execution_count": 301,
   "metadata": {
    "scrolled": true
   },
   "outputs": [
    {
     "name": "stderr",
     "output_type": "stream",
     "text": [
      "C:\\Users\\Computador\\Anaconda3\\lib\\site-packages\\sklearn\\preprocessing\\data.py:645: DataConversionWarning: Data with input dtype int64, float64 were all converted to float64 by StandardScaler.\n",
      "  return self.partial_fit(X, y)\n",
      "C:\\Users\\Computador\\Anaconda3\\lib\\site-packages\\sklearn\\base.py:464: DataConversionWarning: Data with input dtype int64, float64 were all converted to float64 by StandardScaler.\n",
      "  return self.fit(X, **fit_params).transform(X)\n"
     ]
    }
   ],
   "source": [
    "pipeline = Pipeline([\n",
    "    ('std_scaler',StandardScaler())\n",
    "])\n",
    "\n",
    "transf_df_strat_ts = pipeline.fit_transform(df_strat_ts)\n",
    "transf_df_labels = pipeline.fit_transform(np.array([df_labels]).reshape(-1, 1))"
   ]
  },
  {
   "cell_type": "code",
   "execution_count": 311,
   "metadata": {},
   "outputs": [
    {
     "data": {
      "text/plain": [
       "array([-0.65215872, -0.65206356, -0.652127  , ...,  1.41807412,\n",
       "       -0.65209528, -0.6043258 ])"
      ]
     },
     "execution_count": 311,
     "metadata": {},
     "output_type": "execute_result"
    }
   ],
   "source": [
    "transf_df_labels = np.ravel(transf_df_labels) # Convert from column vector to 1d array (for using in Randomized Search CV)"
   ]
  },
  {
   "cell_type": "markdown",
   "metadata": {},
   "source": [
    "# Selecting a model"
   ]
  },
  {
   "cell_type": "code",
   "execution_count": 330,
   "metadata": {},
   "outputs": [],
   "source": [
    "from sklearn.ensemble import RandomForestRegressor\n",
    "from sklearn.model_selection import cross_val_score\n",
    "from sklearn.metrics import mean_squared_error\n",
    "from sklearn.model_selection import RandomizedSearchCV"
   ]
  },
  {
   "cell_type": "markdown",
   "metadata": {},
   "source": [
    "Better to rewrite this code using GridSearchCV... RandomizedSearch as it is was pointless."
   ]
  },
  {
   "cell_type": "code",
   "execution_count": 331,
   "metadata": {},
   "outputs": [
    {
     "name": "stdout",
     "output_type": "stream",
     "text": [
      "Fitting 5 folds for each of 10 candidates, totalling 50 fits\n",
      "[CV] n_estimators=76, max_features=6, bootstrap=True .................\n"
     ]
    },
    {
     "name": "stderr",
     "output_type": "stream",
     "text": [
      "[Parallel(n_jobs=1)]: Using backend SequentialBackend with 1 concurrent workers.\n"
     ]
    },
    {
     "name": "stdout",
     "output_type": "stream",
     "text": [
      "[CV] .. n_estimators=76, max_features=6, bootstrap=True, total=   4.1s\n",
      "[CV] n_estimators=76, max_features=6, bootstrap=True .................\n"
     ]
    },
    {
     "name": "stderr",
     "output_type": "stream",
     "text": [
      "[Parallel(n_jobs=1)]: Done   1 out of   1 | elapsed:    4.4s remaining:    0.0s\n"
     ]
    },
    {
     "name": "stdout",
     "output_type": "stream",
     "text": [
      "[CV] .. n_estimators=76, max_features=6, bootstrap=True, total=   4.4s\n",
      "[CV] n_estimators=76, max_features=6, bootstrap=True .................\n",
      "[CV] .. n_estimators=76, max_features=6, bootstrap=True, total=   4.1s\n",
      "[CV] n_estimators=76, max_features=6, bootstrap=True .................\n",
      "[CV] .. n_estimators=76, max_features=6, bootstrap=True, total=   4.3s\n",
      "[CV] n_estimators=76, max_features=6, bootstrap=True .................\n",
      "[CV] .. n_estimators=76, max_features=6, bootstrap=True, total=   4.3s\n",
      "[CV] n_estimators=76, max_features=2, bootstrap=True .................\n",
      "[CV] .. n_estimators=76, max_features=2, bootstrap=True, total=   1.9s\n",
      "[CV] n_estimators=76, max_features=2, bootstrap=True .................\n",
      "[CV] .. n_estimators=76, max_features=2, bootstrap=True, total=   1.8s\n",
      "[CV] n_estimators=76, max_features=2, bootstrap=True .................\n",
      "[CV] .. n_estimators=76, max_features=2, bootstrap=True, total=   1.8s\n",
      "[CV] n_estimators=76, max_features=2, bootstrap=True .................\n",
      "[CV] .. n_estimators=76, max_features=2, bootstrap=True, total=   1.8s\n",
      "[CV] n_estimators=76, max_features=2, bootstrap=True .................\n",
      "[CV] .. n_estimators=76, max_features=2, bootstrap=True, total=   1.8s\n",
      "[CV] n_estimators=51, max_features=3, bootstrap=True .................\n",
      "[CV] .. n_estimators=51, max_features=3, bootstrap=True, total=   1.6s\n",
      "[CV] n_estimators=51, max_features=3, bootstrap=True .................\n",
      "[CV] .. n_estimators=51, max_features=3, bootstrap=True, total=   1.6s\n",
      "[CV] n_estimators=51, max_features=3, bootstrap=True .................\n",
      "[CV] .. n_estimators=51, max_features=3, bootstrap=True, total=   1.6s\n",
      "[CV] n_estimators=51, max_features=3, bootstrap=True .................\n",
      "[CV] .. n_estimators=51, max_features=3, bootstrap=True, total=   1.5s\n",
      "[CV] n_estimators=51, max_features=3, bootstrap=True .................\n",
      "[CV] .. n_estimators=51, max_features=3, bootstrap=True, total=   1.2s\n",
      "[CV] n_estimators=91, max_features=4, bootstrap=False ................\n",
      "[CV] . n_estimators=91, max_features=4, bootstrap=False, total=   4.6s\n",
      "[CV] n_estimators=91, max_features=4, bootstrap=False ................\n",
      "[CV] . n_estimators=91, max_features=4, bootstrap=False, total=   4.8s\n",
      "[CV] n_estimators=91, max_features=4, bootstrap=False ................\n",
      "[CV] . n_estimators=91, max_features=4, bootstrap=False, total=   5.0s\n",
      "[CV] n_estimators=91, max_features=4, bootstrap=False ................\n",
      "[CV] . n_estimators=91, max_features=4, bootstrap=False, total=   4.4s\n",
      "[CV] n_estimators=91, max_features=4, bootstrap=False ................\n",
      "[CV] . n_estimators=91, max_features=4, bootstrap=False, total=   4.6s\n",
      "[CV] n_estimators=41, max_features=3, bootstrap=False ................\n",
      "[CV] . n_estimators=41, max_features=3, bootstrap=False, total=   1.6s\n",
      "[CV] n_estimators=41, max_features=3, bootstrap=False ................\n",
      "[CV] . n_estimators=41, max_features=3, bootstrap=False, total=   1.7s\n",
      "[CV] n_estimators=41, max_features=3, bootstrap=False ................\n",
      "[CV] . n_estimators=41, max_features=3, bootstrap=False, total=   1.6s\n",
      "[CV] n_estimators=41, max_features=3, bootstrap=False ................\n",
      "[CV] . n_estimators=41, max_features=3, bootstrap=False, total=   1.5s\n",
      "[CV] n_estimators=41, max_features=3, bootstrap=False ................\n",
      "[CV] . n_estimators=41, max_features=3, bootstrap=False, total=   1.6s\n",
      "[CV] n_estimators=76, max_features=2, bootstrap=False ................\n",
      "[CV] . n_estimators=76, max_features=2, bootstrap=False, total=   2.3s\n",
      "[CV] n_estimators=76, max_features=2, bootstrap=False ................\n",
      "[CV] . n_estimators=76, max_features=2, bootstrap=False, total=   2.1s\n",
      "[CV] n_estimators=76, max_features=2, bootstrap=False ................\n",
      "[CV] . n_estimators=76, max_features=2, bootstrap=False, total=   2.1s\n",
      "[CV] n_estimators=76, max_features=2, bootstrap=False ................\n",
      "[CV] . n_estimators=76, max_features=2, bootstrap=False, total=   2.3s\n",
      "[CV] n_estimators=76, max_features=2, bootstrap=False ................\n",
      "[CV] . n_estimators=76, max_features=2, bootstrap=False, total=   2.1s\n",
      "[CV] n_estimators=46, max_features=5, bootstrap=True .................\n",
      "[CV] .. n_estimators=46, max_features=5, bootstrap=True, total=   1.7s\n",
      "[CV] n_estimators=46, max_features=5, bootstrap=True .................\n",
      "[CV] .. n_estimators=46, max_features=5, bootstrap=True, total=   1.7s\n",
      "[CV] n_estimators=46, max_features=5, bootstrap=True .................\n",
      "[CV] .. n_estimators=46, max_features=5, bootstrap=True, total=   1.7s\n",
      "[CV] n_estimators=46, max_features=5, bootstrap=True .................\n",
      "[CV] .. n_estimators=46, max_features=5, bootstrap=True, total=   1.7s\n",
      "[CV] n_estimators=46, max_features=5, bootstrap=True .................\n",
      "[CV] .. n_estimators=46, max_features=5, bootstrap=True, total=   1.7s\n",
      "[CV] n_estimators=51, max_features=5, bootstrap=False ................\n",
      "[CV] . n_estimators=51, max_features=5, bootstrap=False, total=   3.4s\n",
      "[CV] n_estimators=51, max_features=5, bootstrap=False ................\n",
      "[CV] . n_estimators=51, max_features=5, bootstrap=False, total=   2.9s\n",
      "[CV] n_estimators=51, max_features=5, bootstrap=False ................\n",
      "[CV] . n_estimators=51, max_features=5, bootstrap=False, total=   2.9s\n",
      "[CV] n_estimators=51, max_features=5, bootstrap=False ................\n",
      "[CV] . n_estimators=51, max_features=5, bootstrap=False, total=   3.0s\n",
      "[CV] n_estimators=51, max_features=5, bootstrap=False ................\n",
      "[CV] . n_estimators=51, max_features=5, bootstrap=False, total=   3.7s\n",
      "[CV] n_estimators=71, max_features=5, bootstrap=False ................\n",
      "[CV] . n_estimators=71, max_features=5, bootstrap=False, total=   5.3s\n",
      "[CV] n_estimators=71, max_features=5, bootstrap=False ................\n",
      "[CV] . n_estimators=71, max_features=5, bootstrap=False, total=   5.1s\n",
      "[CV] n_estimators=71, max_features=5, bootstrap=False ................\n",
      "[CV] . n_estimators=71, max_features=5, bootstrap=False, total=   5.2s\n",
      "[CV] n_estimators=71, max_features=5, bootstrap=False ................\n",
      "[CV] . n_estimators=71, max_features=5, bootstrap=False, total=   5.4s\n",
      "[CV] n_estimators=71, max_features=5, bootstrap=False ................\n",
      "[CV] . n_estimators=71, max_features=5, bootstrap=False, total=   5.2s\n",
      "[CV] n_estimators=26, max_features=4, bootstrap=True .................\n",
      "[CV] .. n_estimators=26, max_features=4, bootstrap=True, total=   1.0s\n",
      "[CV] n_estimators=26, max_features=4, bootstrap=True .................\n",
      "[CV] .. n_estimators=26, max_features=4, bootstrap=True, total=   1.0s\n",
      "[CV] n_estimators=26, max_features=4, bootstrap=True .................\n",
      "[CV] .. n_estimators=26, max_features=4, bootstrap=True, total=   1.0s\n",
      "[CV] n_estimators=26, max_features=4, bootstrap=True .................\n",
      "[CV] .. n_estimators=26, max_features=4, bootstrap=True, total=   1.0s\n",
      "[CV] n_estimators=26, max_features=4, bootstrap=True .................\n",
      "[CV] .. n_estimators=26, max_features=4, bootstrap=True, total=   1.0s\n"
     ]
    },
    {
     "name": "stderr",
     "output_type": "stream",
     "text": [
      "[Parallel(n_jobs=1)]: Done  50 out of  50 | elapsed:  2.6min finished\n"
     ]
    },
    {
     "data": {
      "text/plain": [
       "RandomizedSearchCV(cv=5, error_score='raise-deprecating',\n",
       "          estimator=RandomForestRegressor(bootstrap=True, criterion='mse', max_depth=None,\n",
       "           max_features='auto', max_leaf_nodes=None,\n",
       "           min_impurity_decrease=0.0, min_impurity_split=None,\n",
       "           min_samples_leaf=1, min_samples_split=2,\n",
       "           min_weight_fraction_leaf=0.0, n_estimators='warn', n_jobs=None,\n",
       "           oob_score=False, random_state=None, verbose=0, warm_start=False),\n",
       "          fit_params=None, iid='warn', n_iter=10, n_jobs=None,\n",
       "          param_distributions={'n_estimators': [1, 6, 11, 16, 21, 26, 31, 36, 41, 46, 51, 56, 61, 66, 71, 76, 81, 86, 91, 96], 'bootstrap': [True, False], 'max_features': [2, 3, 4, 5, 6]},\n",
       "          pre_dispatch='2*n_jobs', random_state=42, refit=True,\n",
       "          return_train_score='warn', scoring='neg_mean_squared_error',\n",
       "          verbose=2)"
      ]
     },
     "execution_count": 331,
     "metadata": {},
     "output_type": "execute_result"
    }
   ],
   "source": [
    "rnd_forest_reg = RandomForestRegressor()  # Using RandomizedSearchCV with a RandomForestRegressor wasn't worth it\n",
    "\n",
    "params = {\n",
    "    'n_estimators': list(range(1,100,5)), # Couldn't use a probability distribution since 'n_estimators' must be integer\n",
    "    'bootstrap':[True, False],  # I used it as if it were GridSearchCV... maybe we figure a way to change this.\n",
    "    'max_features':[2,3,4,5,6]\n",
    "}\n",
    "\n",
    "random_search = RandomizedSearchCV(rnd_forest_reg, param_distributions = params,\n",
    "                                  n_iter=10, scoring='neg_mean_squared_error', cv=5,\n",
    "                                  verbose = 2, random_state=42)\n",
    "\n",
    "random_search.fit(transf_df_strat_ts, transf_df_labels)"
   ]
  },
  {
   "cell_type": "code",
   "execution_count": 332,
   "metadata": {},
   "outputs": [
    {
     "data": {
      "text/plain": [
       "0.4585344134279407"
      ]
     },
     "execution_count": 332,
     "metadata": {},
     "output_type": "execute_result"
    }
   ],
   "source": [
    "negative_mse = random_search.best_score_\n",
    "rmse = np.sqrt(-negative_mse)\n",
    "rmse"
   ]
  },
  {
   "cell_type": "code",
   "execution_count": 333,
   "metadata": {},
   "outputs": [
    {
     "data": {
      "text/plain": [
       "{'n_estimators': 76, 'max_features': 2, 'bootstrap': False}"
      ]
     },
     "execution_count": 333,
     "metadata": {},
     "output_type": "execute_result"
    }
   ],
   "source": [
    "random_search.best_params_"
   ]
  },
  {
   "cell_type": "code",
   "execution_count": 334,
   "metadata": {},
   "outputs": [
    {
     "name": "stdout",
     "output_type": "stream",
     "text": [
      "feature: Temperature, importance: 0.4711639211729462\n",
      "feature: Pressure, importance: 0.06945855640744168\n",
      "feature: Humidity, importance: 0.1412230287815893\n",
      "feature: WindDirection(Degrees), importance: 0.2214060045963652\n",
      "feature: Speed, importance: 0.055330602912869196\n",
      "feature: Month, importance: 0.04141788612878843\n"
     ]
    }
   ],
   "source": [
    "best_est = random_search.best_estimator_\n",
    "features = df_strat_ts.columns\n",
    "\n",
    "for feat, importance in zip(features, best_est.feature_importances_):\n",
    "    print('feature: {f}, importance: {i}'.format(f=feat, i=importance))"
   ]
  },
  {
   "cell_type": "markdown",
   "metadata": {},
   "source": [
    "Weird... WindDirection is deemed as the second most important feature. However, it is not clear how to make sense of this physically. "
   ]
  },
  {
   "cell_type": "markdown",
   "metadata": {},
   "source": [
    "# Running model into test set"
   ]
  },
  {
   "cell_type": "code",
   "execution_count": 335,
   "metadata": {},
   "outputs": [],
   "source": [
    "final_model = random_search.best_estimator_"
   ]
  },
  {
   "cell_type": "code",
   "execution_count": 336,
   "metadata": {},
   "outputs": [],
   "source": [
    "test_df_strat = strat_test_set.drop(\"Radiation\", axis=1)\n",
    "test_labels = strat_test_set[\"Radiation\"].copy()"
   ]
  },
  {
   "cell_type": "code",
   "execution_count": 338,
   "metadata": {},
   "outputs": [
    {
     "name": "stderr",
     "output_type": "stream",
     "text": [
      "C:\\Users\\Computador\\Anaconda3\\lib\\site-packages\\sklearn\\pipeline.py:451: DataConversionWarning: Data with input dtype int64, float64 were all converted to float64 by StandardScaler.\n",
      "  Xt = transform.transform(Xt)\n"
     ]
    }
   ],
   "source": [
    "test_df_strat_standarized = pipeline.transform(test_df_strat)"
   ]
  },
  {
   "cell_type": "code",
   "execution_count": 339,
   "metadata": {},
   "outputs": [],
   "source": [
    "final_predictions = final_model.predict(test_df_strat_standarized)"
   ]
  },
  {
   "cell_type": "code",
   "execution_count": 340,
   "metadata": {},
   "outputs": [],
   "source": [
    "final_mse = mean_squared_error(test_labels, final_predictions)\n",
    "final_rmse = np.sqrt(final_mse)"
   ]
  },
  {
   "cell_type": "code",
   "execution_count": 341,
   "metadata": {},
   "outputs": [
    {
     "data": {
      "text/plain": [
       "380.9144780985215"
      ]
     },
     "execution_count": 341,
     "metadata": {},
     "output_type": "execute_result"
    }
   ],
   "source": [
    "final_rmse   "
   ]
  },
  {
   "cell_type": "markdown",
   "metadata": {},
   "source": [
    "### WAY BIGGER than what was achieved in the cross validation. This means the model is heavily overfit."
   ]
  },
  {
   "cell_type": "markdown",
   "metadata": {},
   "source": [
    "f's in the chat boys"
   ]
  },
  {
   "cell_type": "code",
   "execution_count": null,
   "metadata": {},
   "outputs": [],
   "source": []
  }
 ],
 "metadata": {
  "kernelspec": {
   "display_name": "Python 3",
   "language": "python",
   "name": "python3"
  },
  "language_info": {
   "codemirror_mode": {
    "name": "ipython",
    "version": 3
   },
   "file_extension": ".py",
   "mimetype": "text/x-python",
   "name": "python",
   "nbconvert_exporter": "python",
   "pygments_lexer": "ipython3",
   "version": "3.7.3"
  }
 },
 "nbformat": 4,
 "nbformat_minor": 4
}
