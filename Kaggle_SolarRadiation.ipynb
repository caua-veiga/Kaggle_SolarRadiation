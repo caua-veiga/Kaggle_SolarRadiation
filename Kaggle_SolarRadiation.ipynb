{
 "cells": [
  {
   "cell_type": "code",
   "execution_count": 136,
   "metadata": {},
   "outputs": [],
   "source": [
    "import numpy as np\n",
    "import pandas as pd\n",
    "import matplotlib.pyplot as plt\n",
    "%matplotlib inline\n",
    "import seaborn as sns"
   ]
  },
  {
   "cell_type": "markdown",
   "metadata": {},
   "source": []
  },
  {
   "cell_type": "markdown",
   "metadata": {},
   "source": [
    "## About the data set:\n",
    "\n",
    "These datasets are meteorological data from the HI-SEAS weather station from four months (September through December 2016) between Mission IV and Mission V.\n",
    "\n",
    "For each dataset, the fields are:\n",
    "\n",
    "A row number (1-n) useful in sorting this export's results\n",
    "The UNIX time_t date (seconds since Jan 1, 1970). Useful in sorting this export's results with other export's results\n",
    "The date in yyyy-mm-dd format\n",
    "The local time of day in hh:mm:ss 24-hour format\n",
    "The numeric data, if any (may be an empty string)\n",
    "The text data, if any (may be an empty string)\n",
    "\n",
    "The units of each dataset are:\n",
    "\n",
    "--Solar radiation: watts per meter^2\n",
    "\n",
    "--Temperature: degrees Fahrenheit\n",
    "\n",
    "--Humidity: percent\n",
    "\n",
    "--Barometric pressure: Hg\n",
    "\n",
    "--Wind direction: degrees\n",
    "\n",
    "--Wind speed: miles per hour\n",
    "\n",
    "--Sunrise/sunset: Hawaii time"
   ]
  },
  {
   "cell_type": "markdown",
   "metadata": {},
   "source": [
    "# Explore the data to gain insights"
   ]
  },
  {
   "cell_type": "code",
   "execution_count": 137,
   "metadata": {
    "scrolled": true
   },
   "outputs": [
    {
     "data": {
      "text/html": [
       "<div>\n",
       "<style scoped>\n",
       "    .dataframe tbody tr th:only-of-type {\n",
       "        vertical-align: middle;\n",
       "    }\n",
       "\n",
       "    .dataframe tbody tr th {\n",
       "        vertical-align: top;\n",
       "    }\n",
       "\n",
       "    .dataframe thead th {\n",
       "        text-align: right;\n",
       "    }\n",
       "</style>\n",
       "<table border=\"1\" class=\"dataframe\">\n",
       "  <thead>\n",
       "    <tr style=\"text-align: right;\">\n",
       "      <th></th>\n",
       "      <th>UNIXTime</th>\n",
       "      <th>Data</th>\n",
       "      <th>Time</th>\n",
       "      <th>Radiation</th>\n",
       "      <th>Temperature</th>\n",
       "      <th>Pressure</th>\n",
       "      <th>Humidity</th>\n",
       "      <th>WindDirection(Degrees)</th>\n",
       "      <th>Speed</th>\n",
       "      <th>TimeSunRise</th>\n",
       "      <th>TimeSunSet</th>\n",
       "    </tr>\n",
       "  </thead>\n",
       "  <tbody>\n",
       "    <tr>\n",
       "      <th>7416</th>\n",
       "      <td>1472724008</td>\n",
       "      <td>9/1/2016 12:00:00 AM</td>\n",
       "      <td>00:00:08</td>\n",
       "      <td>2.58</td>\n",
       "      <td>51</td>\n",
       "      <td>30.43</td>\n",
       "      <td>103</td>\n",
       "      <td>77.27</td>\n",
       "      <td>11.25</td>\n",
       "      <td>06:07:00</td>\n",
       "      <td>18:38:00</td>\n",
       "    </tr>\n",
       "    <tr>\n",
       "      <th>7415</th>\n",
       "      <td>1472724310</td>\n",
       "      <td>9/1/2016 12:00:00 AM</td>\n",
       "      <td>00:05:10</td>\n",
       "      <td>2.83</td>\n",
       "      <td>51</td>\n",
       "      <td>30.43</td>\n",
       "      <td>103</td>\n",
       "      <td>153.44</td>\n",
       "      <td>9.00</td>\n",
       "      <td>06:07:00</td>\n",
       "      <td>18:38:00</td>\n",
       "    </tr>\n",
       "    <tr>\n",
       "      <th>7414</th>\n",
       "      <td>1472725206</td>\n",
       "      <td>9/1/2016 12:00:00 AM</td>\n",
       "      <td>00:20:06</td>\n",
       "      <td>2.16</td>\n",
       "      <td>51</td>\n",
       "      <td>30.43</td>\n",
       "      <td>103</td>\n",
       "      <td>142.04</td>\n",
       "      <td>7.87</td>\n",
       "      <td>06:07:00</td>\n",
       "      <td>18:38:00</td>\n",
       "    </tr>\n",
       "    <tr>\n",
       "      <th>7413</th>\n",
       "      <td>1472725505</td>\n",
       "      <td>9/1/2016 12:00:00 AM</td>\n",
       "      <td>00:25:05</td>\n",
       "      <td>2.21</td>\n",
       "      <td>51</td>\n",
       "      <td>30.43</td>\n",
       "      <td>103</td>\n",
       "      <td>144.12</td>\n",
       "      <td>18.00</td>\n",
       "      <td>06:07:00</td>\n",
       "      <td>18:38:00</td>\n",
       "    </tr>\n",
       "    <tr>\n",
       "      <th>7412</th>\n",
       "      <td>1472725809</td>\n",
       "      <td>9/1/2016 12:00:00 AM</td>\n",
       "      <td>00:30:09</td>\n",
       "      <td>2.25</td>\n",
       "      <td>51</td>\n",
       "      <td>30.43</td>\n",
       "      <td>103</td>\n",
       "      <td>67.42</td>\n",
       "      <td>11.25</td>\n",
       "      <td>06:07:00</td>\n",
       "      <td>18:38:00</td>\n",
       "    </tr>\n",
       "  </tbody>\n",
       "</table>\n",
       "</div>"
      ],
      "text/plain": [
       "        UNIXTime                  Data      Time  Radiation  Temperature  \\\n",
       "7416  1472724008  9/1/2016 12:00:00 AM  00:00:08       2.58           51   \n",
       "7415  1472724310  9/1/2016 12:00:00 AM  00:05:10       2.83           51   \n",
       "7414  1472725206  9/1/2016 12:00:00 AM  00:20:06       2.16           51   \n",
       "7413  1472725505  9/1/2016 12:00:00 AM  00:25:05       2.21           51   \n",
       "7412  1472725809  9/1/2016 12:00:00 AM  00:30:09       2.25           51   \n",
       "\n",
       "      Pressure  Humidity  WindDirection(Degrees)  Speed TimeSunRise TimeSunSet  \n",
       "7416     30.43       103                   77.27  11.25    06:07:00   18:38:00  \n",
       "7415     30.43       103                  153.44   9.00    06:07:00   18:38:00  \n",
       "7414     30.43       103                  142.04   7.87    06:07:00   18:38:00  \n",
       "7413     30.43       103                  144.12  18.00    06:07:00   18:38:00  \n",
       "7412     30.43       103                   67.42  11.25    06:07:00   18:38:00  "
      ]
     },
     "execution_count": 137,
     "metadata": {},
     "output_type": "execute_result"
    }
   ],
   "source": [
    "#Loading the data into a pandas data frame\n",
    "\n",
    "Data = pd.read_csv(\"SolarPrediction.csv\")\n",
    "Data = Data.sort_values(['UNIXTime'], ascending = [True])\n",
    "Data.head()"
   ]
  },
  {
   "cell_type": "markdown",
   "metadata": {},
   "source": [
    "Note that the 'Temperature' column is in degrees Fahrenheit. We decided to transform it in Celsius"
   ]
  },
  {
   "cell_type": "code",
   "execution_count": 138,
   "metadata": {},
   "outputs": [],
   "source": [
    "def celsius(F):\n",
    "    '''Convert Fahrenheit into Celsius'''\n",
    "    return (F-32)/1.8\n",
    "\n",
    "Temp_c = [round(celsius(F),0) for F in Data['Temperature'].values] #List of Celsius Values"
   ]
  },
  {
   "cell_type": "code",
   "execution_count": 4,
   "metadata": {},
   "outputs": [
    {
     "data": {
      "text/html": [
       "<div>\n",
       "<style scoped>\n",
       "    .dataframe tbody tr th:only-of-type {\n",
       "        vertical-align: middle;\n",
       "    }\n",
       "\n",
       "    .dataframe tbody tr th {\n",
       "        vertical-align: top;\n",
       "    }\n",
       "\n",
       "    .dataframe thead th {\n",
       "        text-align: right;\n",
       "    }\n",
       "</style>\n",
       "<table border=\"1\" class=\"dataframe\">\n",
       "  <thead>\n",
       "    <tr style=\"text-align: right;\">\n",
       "      <th></th>\n",
       "      <th>UNIXTime</th>\n",
       "      <th>Data</th>\n",
       "      <th>Time</th>\n",
       "      <th>Radiation</th>\n",
       "      <th>Temperature</th>\n",
       "      <th>Pressure</th>\n",
       "      <th>Humidity</th>\n",
       "      <th>WindDirection(Degrees)</th>\n",
       "      <th>Speed</th>\n",
       "      <th>TimeSunRise</th>\n",
       "      <th>TimeSunSet</th>\n",
       "    </tr>\n",
       "  </thead>\n",
       "  <tbody>\n",
       "    <tr>\n",
       "      <th>7416</th>\n",
       "      <td>1472724008</td>\n",
       "      <td>9/1/2016 12:00:00 AM</td>\n",
       "      <td>00:00:08</td>\n",
       "      <td>2.58</td>\n",
       "      <td>10</td>\n",
       "      <td>30.43</td>\n",
       "      <td>103</td>\n",
       "      <td>77.27</td>\n",
       "      <td>11.25</td>\n",
       "      <td>06:07:00</td>\n",
       "      <td>18:38:00</td>\n",
       "    </tr>\n",
       "    <tr>\n",
       "      <th>7415</th>\n",
       "      <td>1472724310</td>\n",
       "      <td>9/1/2016 12:00:00 AM</td>\n",
       "      <td>00:05:10</td>\n",
       "      <td>2.83</td>\n",
       "      <td>10</td>\n",
       "      <td>30.43</td>\n",
       "      <td>103</td>\n",
       "      <td>153.44</td>\n",
       "      <td>9.00</td>\n",
       "      <td>06:07:00</td>\n",
       "      <td>18:38:00</td>\n",
       "    </tr>\n",
       "    <tr>\n",
       "      <th>7414</th>\n",
       "      <td>1472725206</td>\n",
       "      <td>9/1/2016 12:00:00 AM</td>\n",
       "      <td>00:20:06</td>\n",
       "      <td>2.16</td>\n",
       "      <td>10</td>\n",
       "      <td>30.43</td>\n",
       "      <td>103</td>\n",
       "      <td>142.04</td>\n",
       "      <td>7.87</td>\n",
       "      <td>06:07:00</td>\n",
       "      <td>18:38:00</td>\n",
       "    </tr>\n",
       "    <tr>\n",
       "      <th>7413</th>\n",
       "      <td>1472725505</td>\n",
       "      <td>9/1/2016 12:00:00 AM</td>\n",
       "      <td>00:25:05</td>\n",
       "      <td>2.21</td>\n",
       "      <td>10</td>\n",
       "      <td>30.43</td>\n",
       "      <td>103</td>\n",
       "      <td>144.12</td>\n",
       "      <td>18.00</td>\n",
       "      <td>06:07:00</td>\n",
       "      <td>18:38:00</td>\n",
       "    </tr>\n",
       "    <tr>\n",
       "      <th>7412</th>\n",
       "      <td>1472725809</td>\n",
       "      <td>9/1/2016 12:00:00 AM</td>\n",
       "      <td>00:30:09</td>\n",
       "      <td>2.25</td>\n",
       "      <td>10</td>\n",
       "      <td>30.43</td>\n",
       "      <td>103</td>\n",
       "      <td>67.42</td>\n",
       "      <td>11.25</td>\n",
       "      <td>06:07:00</td>\n",
       "      <td>18:38:00</td>\n",
       "    </tr>\n",
       "  </tbody>\n",
       "</table>\n",
       "</div>"
      ],
      "text/plain": [
       "        UNIXTime                  Data      Time  Radiation  Temperature  \\\n",
       "7416  1472724008  9/1/2016 12:00:00 AM  00:00:08       2.58           10   \n",
       "7415  1472724310  9/1/2016 12:00:00 AM  00:05:10       2.83           10   \n",
       "7414  1472725206  9/1/2016 12:00:00 AM  00:20:06       2.16           10   \n",
       "7413  1472725505  9/1/2016 12:00:00 AM  00:25:05       2.21           10   \n",
       "7412  1472725809  9/1/2016 12:00:00 AM  00:30:09       2.25           10   \n",
       "\n",
       "      Pressure  Humidity  WindDirection(Degrees)  Speed TimeSunRise TimeSunSet  \n",
       "7416     30.43       103                   77.27  11.25    06:07:00   18:38:00  \n",
       "7415     30.43       103                  153.44   9.00    06:07:00   18:38:00  \n",
       "7414     30.43       103                  142.04   7.87    06:07:00   18:38:00  \n",
       "7413     30.43       103                  144.12  18.00    06:07:00   18:38:00  \n",
       "7412     30.43       103                   67.42  11.25    06:07:00   18:38:00  "
      ]
     },
<<<<<<< HEAD
     "execution_count": 4,
=======
     "execution_count": 138,
>>>>>>> cc40dede5930463909dc40fe9ee546bf1bef17eb
     "metadata": {},
     "output_type": "execute_result"
    }
   ],
   "source": [
<<<<<<< HEAD
    "#Changing the values in the dataframe\n",
    "for index,celsius in enumerate(Temp_c):\n",
    "    Data['Temperature'].values[index] = celsius   \n",
=======
    "def celsius(F):\n",
    "    return (F-32)/1.8\n",
    "\n",
    "\n",
    "Temp_c = [celsius(F) for F in Data['Temperature'].values] #List of Celsius Values\n",
    "Temp_c_df = pd.DataFrame({'Temperature_c': Temp_c}) # Creating a data frame\n",
    "\n",
    "#Data = Data.join(Temp_c_df) # Merging both data frames\n",
    "\n",
    "#Data = Data.drop(['Temperature'],axis = 1) # Dropping Fahrenheit values\n",
    "\n",
    "for x,y in enumerate(Temp_c):\n",
    "    Data['Temperature'].values[x] = y  #All at once, but don't run that cell more than one time... \n",
>>>>>>> cc40dede5930463909dc40fe9ee546bf1bef17eb
    "    \n",
    "    \n",
    "\n",
    "Data.head()"
   ]
  },
  {
   "cell_type": "code",
   "execution_count": 139,
   "metadata": {
    "scrolled": true
   },
   "outputs": [
    {
     "name": "stdout",
     "output_type": "stream",
     "text": [
      "<class 'pandas.core.frame.DataFrame'>\n",
      "Int64Index: 32686 entries, 7416 to 24522\n",
      "Data columns (total 11 columns):\n",
      "UNIXTime                  32686 non-null int64\n",
      "Data                      32686 non-null object\n",
      "Time                      32686 non-null object\n",
      "Radiation                 32686 non-null float64\n",
      "Temperature               32686 non-null int64\n",
      "Pressure                  32686 non-null float64\n",
      "Humidity                  32686 non-null int64\n",
      "WindDirection(Degrees)    32686 non-null float64\n",
      "Speed                     32686 non-null float64\n",
      "TimeSunRise               32686 non-null object\n",
      "TimeSunSet                32686 non-null object\n",
      "dtypes: float64(4), int64(3), object(4)\n",
      "memory usage: 3.0+ MB\n"
     ]
    }
   ],
   "source": [
    "#Checking the data-type of the columns and if we have missing entries\n",
    "\n",
    "Data.info()"
   ]
  },
  {
   "cell_type": "markdown",
   "metadata": {},
   "source": [
    "The most precise approach would be to make a model based on the given dava of time, date, unixtime, etc... But as we know, the others attributes are dependents of those (e.g. temp has a dependence on season), so to simplify our analysis we will just drop those attributes and try to find key features to create our model\n",
    "\n",
    "\n",
    "So all the 'object' columns is not important neither is 'UNIXTime', let's drop them\n",
    "\n",
    "*** Probably is a good idea to make an future analysis also based on time, maybe reasulting in a richer model or at least a richer visualization *** "
   ]
  },
  {
   "cell_type": "code",
   "execution_count": 140,
   "metadata": {},
   "outputs": [],
   "source": [
    "Data = Data.drop([\n",
    "    'UNIXTime',\n",
    "    'Data',\n",
    "    'Time',\n",
    "    'TimeSunRise',\n",
    "    'TimeSunSet'],\n",
    "    axis = 1) "
   ]
  },
  {
   "cell_type": "code",
   "execution_count": 141,
   "metadata": {},
   "outputs": [
    {
     "data": {
      "text/html": [
       "<div>\n",
       "<style scoped>\n",
       "    .dataframe tbody tr th:only-of-type {\n",
       "        vertical-align: middle;\n",
       "    }\n",
       "\n",
       "    .dataframe tbody tr th {\n",
       "        vertical-align: top;\n",
       "    }\n",
       "\n",
       "    .dataframe thead th {\n",
       "        text-align: right;\n",
       "    }\n",
       "</style>\n",
       "<table border=\"1\" class=\"dataframe\">\n",
       "  <thead>\n",
       "    <tr style=\"text-align: right;\">\n",
       "      <th></th>\n",
       "      <th>Radiation</th>\n",
       "      <th>Temperature</th>\n",
       "      <th>Pressure</th>\n",
       "      <th>Humidity</th>\n",
       "      <th>WindDirection(Degrees)</th>\n",
       "      <th>Speed</th>\n",
       "    </tr>\n",
       "  </thead>\n",
       "  <tbody>\n",
       "    <tr>\n",
       "      <th>count</th>\n",
       "      <td>32686.000000</td>\n",
       "      <td>32686.000000</td>\n",
       "      <td>32686.000000</td>\n",
       "      <td>32686.000000</td>\n",
       "      <td>32686.000000</td>\n",
       "      <td>32686.000000</td>\n",
       "    </tr>\n",
       "    <tr>\n",
       "      <th>mean</th>\n",
       "      <td>207.124697</td>\n",
       "      <td>10.166065</td>\n",
       "      <td>30.422879</td>\n",
       "      <td>75.016307</td>\n",
       "      <td>143.489821</td>\n",
       "      <td>6.243869</td>\n",
       "    </tr>\n",
       "    <tr>\n",
       "      <th>std</th>\n",
       "      <td>315.916387</td>\n",
       "      <td>3.458138</td>\n",
       "      <td>0.054673</td>\n",
       "      <td>25.990219</td>\n",
       "      <td>83.167500</td>\n",
       "      <td>3.490474</td>\n",
       "    </tr>\n",
       "    <tr>\n",
       "      <th>min</th>\n",
       "      <td>1.110000</td>\n",
       "      <td>1.000000</td>\n",
       "      <td>30.190000</td>\n",
       "      <td>8.000000</td>\n",
       "      <td>0.090000</td>\n",
       "      <td>0.000000</td>\n",
       "    </tr>\n",
       "    <tr>\n",
       "      <th>25%</th>\n",
       "      <td>1.230000</td>\n",
       "      <td>7.000000</td>\n",
       "      <td>30.400000</td>\n",
       "      <td>56.000000</td>\n",
       "      <td>82.227500</td>\n",
       "      <td>3.370000</td>\n",
       "    </tr>\n",
       "    <tr>\n",
       "      <th>50%</th>\n",
       "      <td>2.660000</td>\n",
       "      <td>10.000000</td>\n",
       "      <td>30.430000</td>\n",
       "      <td>85.000000</td>\n",
       "      <td>147.700000</td>\n",
       "      <td>5.620000</td>\n",
       "    </tr>\n",
       "    <tr>\n",
       "      <th>75%</th>\n",
       "      <td>354.235000</td>\n",
       "      <td>12.000000</td>\n",
       "      <td>30.460000</td>\n",
       "      <td>97.000000</td>\n",
       "      <td>179.310000</td>\n",
       "      <td>7.870000</td>\n",
       "    </tr>\n",
       "    <tr>\n",
       "      <th>max</th>\n",
       "      <td>1601.260000</td>\n",
       "      <td>21.000000</td>\n",
       "      <td>30.560000</td>\n",
       "      <td>103.000000</td>\n",
       "      <td>359.950000</td>\n",
       "      <td>40.500000</td>\n",
       "    </tr>\n",
       "  </tbody>\n",
       "</table>\n",
       "</div>"
      ],
      "text/plain": [
       "          Radiation   Temperature      Pressure      Humidity  \\\n",
       "count  32686.000000  32686.000000  32686.000000  32686.000000   \n",
       "mean     207.124697     10.166065     30.422879     75.016307   \n",
       "std      315.916387      3.458138      0.054673     25.990219   \n",
       "min        1.110000      1.000000     30.190000      8.000000   \n",
       "25%        1.230000      7.000000     30.400000     56.000000   \n",
       "50%        2.660000     10.000000     30.430000     85.000000   \n",
       "75%      354.235000     12.000000     30.460000     97.000000   \n",
       "max     1601.260000     21.000000     30.560000    103.000000   \n",
       "\n",
       "       WindDirection(Degrees)         Speed  \n",
       "count            32686.000000  32686.000000  \n",
       "mean               143.489821      6.243869  \n",
       "std                 83.167500      3.490474  \n",
       "min                  0.090000      0.000000  \n",
       "25%                 82.227500      3.370000  \n",
       "50%                147.700000      5.620000  \n",
       "75%                179.310000      7.870000  \n",
       "max                359.950000     40.500000  "
      ]
     },
     "execution_count": 141,
     "metadata": {},
     "output_type": "execute_result"
    }
   ],
   "source": [
    "#Using the describe() method to gain some fast insights about the data\n",
    "\n",
    "Data.describe()"
   ]
  },
  {
   "cell_type": "markdown",
   "metadata": {},
   "source": [
    "The first thing we have to have in mind is what we wanna do. Our goal in that project is to predict the level of solar radiation.\n",
    "\n",
    "We can see that all entries are 'non-null' wich will make our work easier.\n",
    "\n",
    "We can also see that the standard deviation of 'Pressure' is pretty low and the standard deviation of 'Radiation' is the greater of all features. So, if Pressure is almost constant while Radiation has a high standard deviation, we can assume that pressure is not an important feature to our goal."
   ]
  },
  {
   "cell_type": "code",
   "execution_count": 142,
   "metadata": {},
   "outputs": [
    {
     "data": {
      "image/png": "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\n",
      "text/plain": [
       "<Figure size 1440x1080 with 6 Axes>"
      ]
     },
     "metadata": {
      "needs_background": "light"
     },
     "output_type": "display_data"
    }
   ],
   "source": [
    "#Plotting a histogram of each numerical feature in order to gain more insights\n",
    "\n",
    "Data.hist(bins=50, figsize=(20,15))\n",
    "plt.show()"
   ]
  },
  {
   "cell_type": "code",
   "execution_count": 143,
   "metadata": {},
   "outputs": [
    {
     "data": {
      "text/plain": [
       "<matplotlib.axes._subplots.AxesSubplot at 0x22c5d597438>"
      ]
     },
     "execution_count": 143,
     "metadata": {},
     "output_type": "execute_result"
    },
    {
     "data": {
      "image/png": "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\n",
      "text/plain": [
       "<Figure size 1080x1080 with 2 Axes>"
      ]
     },
     "metadata": {
      "needs_background": "light"
     },
     "output_type": "display_data"
    }
   ],
   "source": [
    "#Creating a correlation heatmap using seaborn\n",
    "\n",
    "cor = Data.corr()\n",
    "plt.figure(figsize=(15,15))\n",
    "sns.heatmap(cor, annot=True)"
   ]
  },
  {
   "cell_type": "markdown",
   "metadata": {},
   "source": [
    "With that correlation heatmap it's easier to see wich feature is most important for the model we want to create.\n",
    "\n",
    "As you can see the highest correlation (magnitude) with Radiation is 'Temperature' (pos. correlated, 0.73), followed by 'Humidity' and 'WindDirection' (both neg. correlated, -0.23)"
   ]
  },
  {
   "cell_type": "markdown",
   "metadata": {},
   "source": [
    "Let's plot those attributes"
   ]
  },
  {
   "cell_type": "code",
   "execution_count": 144,
   "metadata": {},
   "outputs": [
    {
     "data": {
      "text/plain": [
       "<seaborn.axisgrid.JointGrid at 0x22c5dd41400>"
      ]
     },
     "execution_count": 144,
     "metadata": {},
     "output_type": "execute_result"
    },
    {
     "data": {
      "image/png": "iVBORw0KGgoAAAANSUhEUgAAAa8AAAGoCAYAAADxbmq5AAAABHNCSVQICAgIfAhkiAAAAAlwSFlzAAALEgAACxIB0t1+/AAAADl0RVh0U29mdHdhcmUAbWF0cGxvdGxpYiB2ZXJzaW9uIDMuMC4zLCBodHRwOi8vbWF0cGxvdGxpYi5vcmcvnQurowAAIABJREFUeJzt3X+cXHV97/HXZycTnI2U3UjQZMmKeClWDCGymlhaC/4gCCgRwRKlxbZK7bW37bVNlcIV8UahTaW1xRapUrRCRAQjUmukFmvbRxMNxBhQUiyNJEuuBJMokrVZdj/3j3NmMzt7ZubMZs6cc+a8n4/HPjJzfn7n7Ox8cs58z/tr7o6IiEie9KXdABERkXapeImISO6oeImISO6oeImISO6oeImISO6oeImISO6oeImISO6oeImISO6oeImISO7MSbsBHaa4EBHJO0u7AXmgMy8REcmdXjvzmpXbNj82Y9pblg+n0BIREYlDZ14iIpI7Kl4iIpI7Kl4iIpI7Kl4iIpI7Kl4iIpI7Kl4iIpI7Kl4iIpI7Kl4iIpI7Kl4iIpI7Kl4iIpI7Kl4iIpI7Kl4iIpI7Kl4iIpI7Kl4iIpI7Kl4iIpI7Kl4iIpI7Kl4iIpI7Kl4iIpI7Kl4iIpI7Kl4iIpI7Kl4iIpI7Kl4iIpI7Kl4iIpI7Kl4iIpI7Kl4iIpI7Kl4iIpI7Kl4iIpI7Kl4iIpI7Kl4iIpI7Kl4iIpI7Kl4iIpI7Kl4iIpI7Kl4iIpI7Kl4iIpI7Kl4iIpI7Kl4iIpI7Kl4iIpI7Kl4iIpI7Kl4iIpI7Kl4iIpI7Kl4iIpI7Kl4iIpI7Kl4iIpI7Kl4iIpI7Kl4iIpI7Kl4iIpI7Kl4iIpI7Kl4iIpI7c9JuQFbdtvmxyOlvWT7c5ZaIiEg9Fa82NSpqRVTEQp7U77+Ix1LkSJi7p92GTprVi1FBkqJRscw0S7sBedBTxcvMvgwc2+ZqxwJPJtCc2VBboqkt0bLSlqy0A3qjLU+6+zmdbkyv6aniNRtmtsXdR9JuB6gtjagt0bLSlqy0A9SWIlFvQxERyR0VLxERyR0VL7gp7QbUUFuiqS3RstKWrLQD1JbCKPx3XiIikj868xIRkdxR8RIRkdxR8RIRkdxR8RIRkdzpqeJ1zjnnOEFElH70ox/95PUnth79zIulp4rXk09mJRVGRCR5Rf7M66niJSIixaDiJSIiuaPiJSIiuaPiJSIiuaPiJSIiuaPiJSIiuaPiJSIiuaPiJSIiuaPiJSIiuaPiJSIiuTMn7QYU3Yato6zbuIPHD4yxaKDCmpUns2rZUGa2J81Vj/fogTH6DCbDZLaBSpn3v+GUqWO/Yeso13zxIfYfHAfACELc+st9jI1PthdoNwuXrhhm7aolCe9FpHtUvFK0YesoV9y1nbHxCQBGD4xxxV3bAWZVcDq9PWmu/nhP1lSgA2PjrLlj29TzNZ/bxvjE4QWqjw6OT3ajqXx602MAKmDSM3TZMEXrNu6Y+uCrGhufYN3GHZnYnjQXdbxrjU866zbuYN3GHdMKV1rWb96VdhNEOkZnXil6/MBYW9O7vT1pLs5xzdKxn/D0C6hIp+jMK0WLBiptTe/29qS5OMd10UAlM8e/ZJZ2E0Q6RsUrRWtWnkylXJo2rVIusWblyZnYnjQXdbxrlfuMNStPZs3KkymX0i8cq5cvTrsJIh2jy4Ypqnai6FTvwE5vT5qrPd6tehsC6m0o0kHmPXQdfGRkxLds2ZJ2M0REjkTs0/Qe/cyL9fp12VBERHJHxUtERHJHxUtERHJHxUtERHJHxUtERHJHxUtERHInsfu8zGwx8CngecAkcJO7f8TM5gO3AycAO4E3u/v+iPUvA64Kn651908m1dZuUNr7zGNw1osWcOf9uxmLCKctmbHixEG2PnZgRnhtyYwJd8wg6k6PSrmPPjOePhTkDpb7YMKnB+ceidr7uTqpem8YTL8nbDYMeOuKYUaeP3/qmB9TKWMGBw6Ot/UejPq93ffw3sj3st7n3bXv6UNpNyE1id3nZWYLgYXu/oCZHQ3cD6wC3gbsc/frzOy9wKC7v6du3fnAFmCE4F7O+4HTo4pcraze81CfPg5B8sW1Fy4pzB921DGQmfoA6zMmOlQd+wj+5xglznswzu+tuh2g8O/zDol9n9eJP3eqP/rdbyfZljSke5+Xu+9x9wfCx08B3wWGgAuA6lnUJwkKWr2VwL3uvi8sWPcC5yTV1qQp7b11ArsEJqFjhau6vUbivAfj/N6q29H7XLqpK/FQZnYCsAzYDDzX3fdAUODM7LiIVYaA2vEbdofTorZ9OXA5wPDwcOca3UFKey/Wa82TVr+XuL+3Zsvpd99ZtZ95xz6vuGe0iXfYMLNnA3cCv+fuP467WsS0yP+OuvtN7j7i7iMLFiyYbTMTpbT3Yr3WPGn1e4n7e2uWnq/ffWfVfuYdPTA/7eakJtHiZWZlgsJ1q7vfFU7+Qfh9WPV7sSciVt0N1EZgHw88nmRbk6S099YJ7BLoA0p9nUugb/YHHuc9GOf3Vt2O3ufSTYkVLzMz4BPAd939+ppZdwOXhY8vA74QsfpG4GwzGzSzQeDscFourVo2xLUXLmFooIIBQwOVwn2JHXUMLl0xTKUc/RYsmXHGC+fTHzG/Oi5Vo+GpKuU+5s09/CFa7gt6CHZKJ7dVa6BS5vpfPo0PX7yUwf7yEW3LCJLkr//l06aO+UClzGB/ua33YKPfW9R7We/z7ps/b27aTUhNkr0NfwH4F2A7h783/iOC770+CwwDjwEXu/s+MxsB3unubw/X//VweYAPuvvfttpnVnsbioi0QanyMSTWYcPd/7VJI14dsfwW4O01z28Gbk6mdSIikmdK2BARkdxR8RIRkdxR8RIRyakix0OpeImISO6oeImISO50JR5K2pd2Onej/W/YOsr7736IA2NB4vlgf5nzTl3I3397z1QKuhHEobRKf6+qzh+qSyyvlPsYe2YS92BbJy7o59G9B5mo2dhgfxl3+NHYOAMtHh8YG59qU6t/h8LXvOX7+7h182OR7a9vU8mM1csXs3bVksjXedWG7dy66bHoqJhGx4YG0TIdcMYL53PrO14x7Xdde9yUCi9Zlth9XmnolXse0k6hb7T/N50+xO3f2MV4EuOBZFBplunul64YnlHArtqwnU9veqxTTeuYk46bx+79P20YvqtU+FQoVT4GXTbMoLTTuRvtf/3m4hQumH26+/rNu2JNy4JHnni6aWq8UuElq1S8MijtFPpG+5noobP0JEUdpzwfO6XCZ1eR46FUvDIo7XTuRvspNQoTlGmijlOej51S4SWLVLwyKO107kb7X718MeWkUmkzaLbp7quXL441LQtOOm5e09R4pcJLVql4ZVDa6dyN9r921RLWXbyUgcrhxPPB/jKXrhieloJe/chvlf4+tXw4vz6xvL/cNzWvZMZJx82bcQYz2F9moBIkpbd6XNumVv8ODVT48MVLuXTFcMP217epZBbZWQNg7aolwbaaH4qZx6bN5dtxxgvnc++7z5z2u649bkqFlyxTb0MRkWxRqnwMOvMSEZHcUfESEZHcUfESEZHcUfESEZHcUfESEZHcUfESEZHcUap8G1qlbwPTktjPetGCaWnrA5Uy5y9dOJWaXl3mnm17pqW0X/36U9jy/X2s37wrSGUnOlncgJ9/4Xy+s+epaftYcPRcHnni6anlSgZHzenj4Phk5OtKMrm8XYP9ZX7y03EaNFU6YKjNtPjZps6nPTJCEex7+hC3bT4c+PyW5cMptqa7dJ9XTFFJ67XKJQOnI8G1fQYFyr+VFMRNi2/1vm+0nbRHRsi5tlLl195yz9TzHileus+rk6KS1muNT3jHEtdVuCRpcdPiW73vG20n7ZERpPepeMWkZG3pNXHe07NdJu2REaT3qXjFpGRt6TVx3tOzXSbtkRGk96l4xRSVtF6rXLKOJa4XKLhdUhI3Lb7V+77RdtIeGUF6n4pXTPVJ6/Xp2+suWsq6i5dOS2KvT1sfqJSnpaZXl6lPab/+zadx6Yrhw6nsDdpkBMng9fs46bh505YrWZDQ3kiWauVgf5kmTZUOaCctvtX7vtF20h4ZoSjmz5vLW5YPT/0USWK9Dc3sZuB84Al3f0k47Xag+l+vAeCAu58Wse5O4ClgAnjG3Ufi7LNHE5ZFpFiUKh9Dkvd53QLcAHyqOsHdf7n62Mw+DPyoyfpnufuTibVORERyK7Hi5e5fN7MTouaZmQFvBl6V1P5FRKR3pfXtwi8CP3D3RxrMd+ArZna/mV3ebENmdrmZbTGzLXv37u14Q0VEskSfeYG0itdqYH2T+We4+0uB1wHvMrNXNlrQ3W9y9xF3H1mwYEGn2ykikin6zAt0PdvQzOYAFwKnN1rG3R8P/33CzD4PvBz4endaKCKSD/XZhq30Uo/ENM68XgM87O67o2aa2TwzO7r6GDgbeLCL7RMRkYxL7MzLzNYDZwLHmtlu4Gp3/wRwCXWXDM1sEfBxdz8XeC7w+aBPB3OA29z9y0m186oN26fS2+v1l/uYO6c0laB9wnMq/Puj+6ayB/uA2vDzo+b0MTk5qUR0yaWo0QUq5T6uvfDUqfuzmiXFz2ZeO8nzUcsCSq4vqEKnyl+1YTuf3hT/lFukiPqA6385uB2zUVL8bOa96fQh7rx/NFbyfFRKfbnPwIJQ7Fbr58ysU+Vbycllw9Tv88q89Zt3pd0EkcybhKk0+GZJ8e3Oi7riUV2nvvhEpdRHjeLQaH3pPYUuXlGXCkVkpmZp8LOd1+jvr52U+nb32Wuq8VBFVOgUuWp2oIg0t2ig0jQpfjbzGv39tZNSH3d96T2FLl6rly9OuwkimddHkBLfLCl+NvNWL18cO3k+ahvlPgtGMI+xvvSeQl82XLsq+DJZvQ1F4vU2hOa9+9qdN/L8+bF6C1anqbehVBW6t6GISAYpVT6GQl82FBGRfFLxEhGR3FHxEhGR3FHxEhGR3FHxEhGR3FHxEhGR3Cn0fV6vvf5rPPLE02k3QyQzBvvLXP36U/jofY80/NsYGqhw1osWcN/DexumxI8eGMMMau/EmTe3RLnUN3XfZK/ek9VOUr7MXmHv81LhEumcRinxrdbpgQT4aaLS72fxOhNLlYdcJMvrPq9mVLhEOqeaEh+3cFXXqabO94qo9PtefJ1ZUNjiJSKdNZtRGnotAb7R6+m115kFKl4i0hGzGaWh1xLgm6XrS2cVtniddNy8tJsg0jMapcS3WqfXEuCbpetLZxW2t+G97z5TnTZE6hxpb8NqSnxRexs2Sr9P6nUWeTDKwvY2FBHJKKXKx1DYy4YiIpJfKl4iIpI7Kl4iIpI7Kl4iIpI7he1tKCKSd/uePsRtmx87om3ktbeizrxERCR3EjvzMrObgfOBJ9z9JeG09wPvAPaGi/2Ru38pYt1zgI8AJeDj7n5dEm089eov8+P/jp/FJiLNVcp9PKtcYv/BcUpmTLgzt2Qcmmh+S868uSWePjQxtc5gfxl3Iu8Ji5Pa3qllJLuSvGx4C3AD8Km66X/m7n/aaCUzKwEfBV4L7Aa+aWZ3u/t3Otk4FS6Rzhsbn2RsfBI4nHXYqnABPH1oYto6+w+OT80bPTDGFXdtn3pem9peO6+2uHViGcm2xC4buvvXgX2zWPXlwPfc/VF3PwR8Brigo40DFS6RHKkms8dJbe/UMpJtaXTY+G0z+1VgC/D77r6/bv4QsKvm+W5geaONmdnlwOUAw8P5/OJRRFprlsxeOy9Osnue09/rP/Py2uHiSHW7w8ZfAy8ETgP2AB+OWCYqGqThdQd3v8ndR9x9ZMGCBZ1ppYhkzqKBSqzU9k4tk1X6zAt0tXi5+w/cfcLdJ4G/IbhEWG83sLjm+fHA451uy88cFT/9WkTSVU1mj5Pa3qllJNu6WrzMbGHN0zcCD0Ys9k3gJDN7gZnNBS4B7u50W759zTkqYCIdVin3MdhfBg6P7zW31Dpndd7c0rR1BvvLDFTKGEGK/bUXLmHVsiFWLRvi2guXMDRQmTGvqlPLSLYllipvZuuBM4FjgR8AV4fPTyO4DLgT+E1332Nmiwi6xJ8brnsu8OcEXeVvdvcPxtlnjyYsi0ixKFU+hsQ6bLj76ojJn2iw7OPAuTXPvwTMuP9LREQElLAhIiI5pOIlIiK5o+IlIiK5o+IlIiK5o+IlIiK5o+IlIiK5U+jBKE9479+n3QSRzBnsL3PeqQv5+2/vmZbuXmsoHEIEiBxWpH64kbNetID7Ht7L6IExjOl5b4P9Za5+/SkNbxDu1NAlvTgEStzBKHsx/zCxm5TT0M4NeypcIkem3GdgMF4z5EmlXOJNpw9x5/2jM1Lbm26rZKy7aGnkmFu1Q5dU99FuGkanttMlsW9SPvHnTvW1t9zTcrmcFa9Yr1+XDUVkVsYnfVrhgmBYkfWbd7VVuCAogFHDkXRq6BINgdJ7VLxEpKMmZnk1J2o4kk4NXZLnIVAkmoqXiHRUNVy3XVHDkXRq6JI8D4Ei0QrdYUNEZq/T33lFDUeyZuXJkd9VtTt0Sae2kzXz583N2/dZHVPYM6+d152XdhNEMmmwv8ylK4anhjaJMjRQYd3FS1l30dIZw4qsXbVkxnAjl64YZig8y6k/LxvsL0d21oDODV2iIVB6T2F7G4qIZJSGRImhsGdeIiKSXypeIiKSOypeIiKSO+ptKCKSU3HjoeLKU89FnXmJiEjuqHiJiEjuxLpsaGbHAye5+31mdhQwx92fTrZpyVM4r/SSuSXj0ETjW1/6y3186MJTp+5tapT8/viBMY6plDn0zAQHxydnbOOocokDB8dZNFDhhOdU2PTofibcKZmxevliANZv3jUtJmqgUsaMqfWaJdKLxNHyPi8z+3Xgt4Fj3P2FZvazwF+5+2u60cB2KFVepLk+g+vffBrAjMSJbiqXDDwI963KcMp7t3U8VT6ujHznFev1xznz+h3g5cBmAHf/DzM77ggaJiIpmXSmktTTKlzAjDR6OJzyruIlccQpXj9190MWhm2aWYk2/mcgItmS5ST1LLcti5Rt2Ny/mdkfAs8ys7OA24HOnaeKSFctGqhkNk09q+2S7IlTvP4QeAp4GPhd4KvAlUk2SkSS0WdBwvqalSdTKZdSa0e5ZEEqfY1eSHmX7ml62TC8RHizu18G/HV3mtQdO687T502pKe029sQUG9Dya04vQ2/Apzn7uNtbdjsZuB84Al3f0k4bR3weuAQ8J/Ar7n7gYh1dxKc7U0Az7j7SJx99mjCsogUi1LlY4hz2fBR4F/M7Aoz+53qT4z1bgHOqZt2L/ASdz8V+A/giibrn+Xup8UtXCIiUhxxitdegqLTDyyo+WnK3b8O7Kub9hV3fyZ8ugk4vq3WioiIEKOrvLv/n4T2/esEPRcjdwt8xcwc+Ji739RoI2Z2OXA5wPBwMbuMikhx6DMv0LJ4mdm9BMVkGnc/e7Y7NbMrgWeAWxsscoa7Px7eDH2vmT0cnsnNEBa2myC4/jvbNomI5IE+8wJxblK+qubxs4A3Af892x2a2WUEHTle7Q16i7j74+G/T5jZ5wkSPiKLl4iIFE+cy4ab6yb9s5n982x2ZmbnAO8BfsndDzZYZh7Q5+5PhY/PBj4wm/2JiEhvinPZ8GdqnvYBpwMLY6y3HjgTONbMdgNXE/QuPIrgUiDAJnd/p5ktAj7u7ucCzwU+H86fA9zm7l9u50XFpfu8JO+q91atXbVkatqGraNc88WH2H8wuLtloFLm/KULp+7hqr+nK849VrUJ9MdE3LNVv259Yr3u4UpGpwejrJX12Kk4lw0fIvjOywi+p/ov4B2tVnL31RGTP9Fg2ceBc8PHjwJLY7TriKhwSS+YcOfTm4IPr7WrlrBh6yhrPrdtWvDtgbHxqWUARg+MzXh+xV3bASILzIato9MS6A+MjTddt375VtsXmY04XeVPdPdhd1/s7i9w91cB/5Z0w0QkvvWbdwFBYkVUYnsr1UT3KOs27miaQF+/btTyzbYvMhtxilf9d14A3+h0Q0Rk9qpRTEeSyt5o3TjbrF3mSLYjElfDy4ZhN/WFQMXMlnA4suNnCG5YFpGMKIVDFi0aqDA6yyLRKNE9zjZr1220vBLjpZOanXmdB9xAkILxV8BHw58/ApK6cVlEZqEaiLtm5cnBKMVtapbo3iqBvn7dqOWVGC+dFieY983u/tkuteeItBtSqU4bknfqbdiTFMwbZ6FWxQvAzFYCpxDcpAyAu39o1k1LSI/+IkWkWFS8Yohzn9dfAQPAK4G/JUjY2HRETRMRETkCcXob/oK7vwX4YRjSuxylwYuISIriFK+fVv81s+eFz09IrEUiIiItxEnY+JKZDQB/CnyLYHTjTybaKhERaSnJeKgoWYqMalq8zKwP+Ad3PwDcYWb3ABV339dsPRERkSQ1vWzo7pPAR2qej6lwiYhI2uJcNrzXzC5w9y8k3pou031ekjeD/WXOO3Uhd92/m4Pjk1PTjcPp2fU3vwz2l7n69aewatlQ2/dfxV0+K/d1ZaUdkrw4xeu3gWPM7L+BMcK/D3efn2jLEqbCJXm0/+D0hPgqr/u3fp01n9vGlu/v4877R2OnvcdNh89KinxW2iHdEae34bFAGXg2sCB8viDJRolIZ41POOs372or7T1uOnxWUuSz0g7pjjgjKU+Y2SUEQ6N8yMyOJxgw8v7EWyciHTPRIE2n3RT4+ulZSZHPSju6af68uZnqAdhNLc+8zOwG4CzgV8JJB4Ebk2yUiHReNXm+XrM0+TjT210/KVlph3RHnMuGP+/uv0l4s3LY23Buoq0SkY4ql4IA33bS3uOmw2clRT4r7ZDuiFO8xsP7vRzAzJ4DTDZfJft2Xnde2k0Qadtgf5lLVwzTX57+p2t1/9avs+6ipaxdtYRrL1zC0EAFA4YGKlx74ZKGnRlWLRuKtXzc5ZKWlXZId8QZEuVXgTcCI8DNwJuBa9z9M8k3rz09mrAsIsWiVPkY4nTY+JSZ3Q+8Jpx0sbs/eCQtExERORJx7vMCKAHjBJcO41xqFBERSUyc3oZXAuuBRQRDodxmZlck3TAREZFG4px5XQqc7u4HAczsgwT3eF2bZMNEREQaiXMJ8PtML3JzgEeTaY6IiEhrcc68DgIPmdlGgu+8zgb+1cyuB3D3dyfYPhERkRniFK+/D3+qNsXduJndDJwPPOHuLwmnzQduJxiNeSfwZnffH7HuZcBV4dO17t7xATAVzitpqJT7eNPpx3Pfw3sZPTBGyYwJdwYqZQ49MzEtLb5dJTNWnDjId/Y8xf6D4wAMVMqcsuhoNj26nwn3qWV2/nBs2v6HwhR2QMnsOdHtwSjbkXRsVcv7vI5o42avBH4CfKqmeP0JsM/drzOz9wKD7v6euvXmA1sI7i1zgu/YTo8qcrXauedBhUtkpnKfgQVBvlWVckk3+3ZX7Pu8Tvy5U33tLfck2ZZZO4LiFev1x+lteI6ZfdPMnjCzfWa238xiDUjp7l8H6pe9AKieRX0SWBWx6krgXnffFxase4Fz4uxTRGZvfNKnFS5QMrtkU5zLhjcQpGpspzOxUM919z0A7r7HzI6LWGYI2FXzfHc4bQYzuxy4HGB4uJjpyiJJ6+Vk9ryp/cw79nnFPRuO09twN/Atdx9394nqT8LtijptjLy+6e43ufuIu48sWKBhxkSSoGT27Kj9zDt6INdjAh+ROGdefwh80cy+Bvx3daK7/8Us9/kDM1sYnnUtBJ6IWGY3cGbN8+OBr81yfyISU6PvvJTMLlkTp3hdQxANNUBnLhveDVwGXBf++4WIZTYCHzKzwfD52UBHUz12XneeOm1IKtTbUDqlyINRxilex7n76bPZuJmtJziDOtbMdgNXExStz5rZbwCPAReHy44A73T3t7v7PjP7v8A3w019IBxHrKM0LIpINBUrybo4xeurZvYqd/+ndjfu7qsbzHp1xLJbgLfXPL+ZYAgWERGRaeJ02HgH8I9m9pN2u8qLiIgkIc6Z17GJt0JERKQNLc+8wm7xFwPvCR8vBE5LumEiIiKNtDzzMrMbgDLwSuBDBEG9NwIvS7ZpIiLSTKezDfPUczHOZcOfd/eXmtlWgLAn4NyE2yUiItJQnOI1bmZ9hAkXZvYcOnO/V+p0n1e2GQ1iVRqolPvoM+PpQ60DYJ579Fz2/uQQk0120Gj/5T5odCtWn8GkM+2eqWu++NDUPVeNtmkGc+zwdmuXq5T7eFa5xP6D4zPuyepUl/YNW0d1b5fkSsPiZWZz3P0Z4KPAncACM7uGIOfwmi61LzEqXNnX7ngHY23c3PuDpw7Nev/NdlMthqMHxlhzxzYmgYmaCtlom+4wXjOzdrmx8cmp1zYRjgIxemCMK+7aDhz5PVkbto5yxV3bGRuf6Pi2RZLSrMPGNwDc/VME42r9KbAfuNjdP9OFtonk2vikTytcndaptPd1G3dMFa5Ob1skKc0uG06F47r7Q8BDyTdHRNrRibT3RttQknz2KR4q2gIze3ejme5+fQLtEZE2dCLtfdFAhdGIQqUkecmyZpcNS8CzgaMb/IhIE+U+o9QXe1DctnUq7X3NypOplEuJbFskKc3OvPa4+we61pIuU6p89qm34eHXlWRvw+o21NtQ8iTWd169Sqny0g15KAKrlg3lop0iVc0uG85IfhcREcmChsUrifGzREREOiHOkCgiIiKZouIlIiK5o+IlIiK5o+IlIiK5o+IlIiK5E2dIlJ6lm5TFDN66fJi1q5ZEzt+wdZQrP799xo3PcW8Wnu1QI/XrnfCcCpse3c+EOyUzVi9f3LDNUhydHowyLbPJZyxs8VLhEgiGIvn0puCPv74YbNg6yu/fsS0yGT7O0CSzHWokar3a7MEJ94ZtFikKXTYUAdZv3jVj2rqNO2INadJo+JDZDjUStV6UqDaLFIWKlwiHz6RqtTMkSNSysx1qJO5+o9osUhQqXiIE32HVa2dIkKhlG63fartx9xvVZpGiKOx3XiK1Vi9fPGPampUnN/zOq1aj4UPWrDx52ndXzZZttV7cNkuxFHkwyq6feZnZyWb2rZqfH5vZ79Utc6aZ/ahmmfd1uh1KlBcIehteuiK6t+GqZUNtbStwAAAS/0lEQVR8+OKlzJtbmjGvetYzNFDh2guXRHbAWLVsiGsvXMLQQAVrsWyr9c544fypfZbMGrZZpCjMU7xubmYlYBRY7u7fr5l+JvAH7n5+O9sbGRnxLVu2dLaRIiLdFft6cI9+5sV6/Wl/5/Vq4D9rC5eIiEgraRevS4D1Dea9wsy2mdk/mNkp3WyUiIhkW2rFy8zmAm8A7oiY/QDwfHdfCvwlsKHJdi43sy1mtmXv3r3JNFZEJCP0mRdI7TsvM7sAeJe7nx1j2Z3AiLs/2Wy5Hr3+KyLFEvs7rxN/7lRfe8s9SbalK+p6TGb+O6/VNLhkaGbPMwu6VpnZywna+cMutk1ERDIslfu8zKwfeC3wmzXT3gng7jcCFwG/ZWbPAGPAJZ5mt0gREcmUVIqXux8EnlM37caaxzcANyTdDoXzJqsPmGwwb97cEgcPTXBMpYwZHDg4zqKBCme9aAH3Pby37RR2ESmWwiZsqHAlr1HhAqaGGDkwNj41bfTA2FRaevV5nBR2ESmetLvKizQVJ4VdRIqnsGdekh/tpLuLFImyDUUyrJ10dxEpBhUvybQ4KewiUjyFLV5KlU9eszfXvLklDBiolBnsL0+lp1+6YrjtFHYRKZ5Cf+elAiYikk+FPfMSEZH8UvESEZHcUfESEZHcUfESEZHcUfESEZHcUfESEZHcKXRX+aTDeeeWjP65c/jR2DjHVMocemaCg+PT42oHKmXe/4ZTGt7LdNWG7dy2+TEmwwFhKuU+rr3w1MjlN2wd5f13PzQVdttnMOlgBs0GlCmZsXr5YtauWtLyNW3YOsq6jTt4/MDYtET4+nR4pcGLJG/f04e4bfNjrRdsIY8RU4UtXt1IlT804RwKC0ltenqtA2PjrLljGzAzOf2qDdunpawDjI1P8u7bvzVj+Q1bR1lzxzbGJw9XqerDViOhTbhP7adZAduwdZQr7trO2PjMRPj6dHilwYtIknTZMAPGJz0yOX395l2Ry0/CjOXXbdwxrXDNRqP91e6jWrhaURq8iCRJxSsjopLTJ5qcMtUv34nk9Wb7m80+lAYvIklR8cqIqOT0klns5TuRvN5sf7PZh9LgRSQpKl4ZUO6zyOT01csXRy7fBzOWX7PyZMp9zYtPK432V7uPSrkUa1tKgxeRJBW2w8bO687LfG/DaueJOL0Nq8+T7G1Y3Yd6G4pkQ5EHozRv1RUtR0ZGRnzLli1pN0NE5EjEvoTSo595sV6/LhuKiEjuqHiJiEjuqHiJiEjuFLbDhohI3rWKh+rlzhw68xIRkdxR8RIRkdxJ7bKhme0EngImgGfcfaRuvgEfAc4FDgJvc/cHOtmGTtznVTKYqLnboNwH45PBvVMT7gx16Z6n2rT3RQMVznrRAu57eO/U82ob4qTC6/4tEcm6tL/zOsvdn2ww73XASeHPcuCvw387olM3KE/U3SZXvQe5mhPYjYT1+rT30QNj09Loq23Y8v193Hn/aMtUeKXFi0jWZfmy4QXApzywCRgws4VpN2o2kk5Yj5P2PjY+wfrNu2KnwjfbjtLiRSRtaZ55OfAVM3PgY+5+U938IaB2jI7d4bQ9tQuZ2eXA5QDDw9ntWZNkwnrcbbdKje/0/kSk8+o/83q5R2EzaZ55neHuLyW4PPguM3tl3fyoiJAZn77ufpO7j7j7yIIFC5JoZ0ckmbAed9utUuM7vT8R6by8fOYlLbXi5e6Ph/8+AXweeHndIruB2pjz44HHu9O6zko6YT1O2nulXGL18sWxU+GbbUdp8SKStlSKl5nNM7Ojq4+Bs4EH6xa7G/hVC6wAfuTue+iQnded15HtlOpOZsp91enBjKGBCtdeuCTRDg6rlg1x7YVLGBqoYOE+L10xPO35tRcuYe2qJdOWG6iUGewvx37cjdciIhJHKqnyZnYiwdkWBN+73ebuHzSzdwK4+41hV/kbgHMIusr/mrs3jU/u0YRlESkWpcrHkEqHDXd/FFgaMf3GmscOvKub7RIRkXzIcld5ERGRSCpeIiKSOypeIiKSOypeIiKSOypeIiKSO2kH86aqVTjvYH+Zq19/Subua6pPkI9Kem+UHq9keJHeUR2MsogRUYUtXnFS5fcfHGfN57YB2UlRj0qQr096r19GyfAi0mt02bCF8QnPVIp6VIJ8fdJ7q5R5JcOLSN6peMWQpRT1Rm2pnR6nvVl6TSIi7VLxiiFLKeqN2lI7PU57s/SaRETapeLVQrlkmUpRj0qQr096b5Uyr2R4Ecm7whavOKnyg/1l1l20NFMdG6IS5OuT3uuXUTK8SG+aP29uIXsaQkqp8knp0YRlESkWpcrHUNgzLxERyS8VLxERyR0VLxERyR0VLxERyR0VLxGRnKpmGxaRipeIiOROYYN5oXU476Urhlm7akmXWtPYhq2jvP/uh6YCdgf7y5x36kLue3jvVLL8WS9aMO25kuNFpJcVtnjFSZX/9KbgdDzNArZh6yhr7tjG+OTh+/H2HxyfahsESfH1z5UcLyK9TJcNW1i/eVeq+1+3cce0whWXkuNFpJepeLUwkXICyZGkvys5XqS3FTkeSsWrhZLFTmpJxJGkvys5XkR6lYpXC6uXL051/2tWnky5r/0CquR4EellhS1ecVLls9DbcNWyIdZdvJSBSnlq2mB/mUtXDE9Llq9/ruR4EellXe9taGaLgU8BzwMmgZvc/SN1y5wJfAH4r3DSXe7+gU63JU4By4JVy4ZUiEREaqTRVf4Z4Pfd/QEzOxq438zudffv1C33L+5+fgrtExGRjOv6ZUN33+PuD4SPnwK+C+i0QkREYkv1Oy8zOwFYBmyOmP0KM9tmZv9gZqc02cblZrbFzLbs3bs3oZaKiGSDPvMCqRUvM3s2cCfwe+7+47rZDwDPd/elwF8CGxptx91vcvcRdx9ZsGBBcg0WEckAfeYFUileZlYmKFy3uvtd9fPd/cfu/pPw8ZeAspkd2+VmiohIRnW9eJmZAZ8Avuvu1zdY5nnhcpjZywna+cPutVJERLIsjd6GZwC/Amw3s2+F0/4IGAZw9xuBi4DfMrNngDHgEvfO5zQ1C+fNwj1eIiISrevFy93/FWgaGeHuNwA3JNmOVqnyWUiUFxFpZt/Th9JuQmoKm7ARR9qJ8iIiEk3Fq4m0E+VFRCSailcTaSfKi4hINBWvJtJOlBcRkWiFLV6tQnnV21BEsm7+vLlpNyE1aXSVz4y8pMqLiMh0hT3zEhGR/FLxEhGR3FHxEhGR3FHxEhGR3FHxEhGR3FHxEhGR3FHxEhGR3Cn0fV5RyfK690tEJPsKe+bVaEiUVkOliIhI+gpbvEREJL9UvEREJHdUvEREJHdUvEREJHcKW7wa9SpUb0MRkewrdFd5FSoRkXwq7JmXiIjkl4qXiIjkjoqXiIjkjoqXiIjkjoqXiIjkTirFy8zOMbMdZvY9M3tvxPyjzOz2cP5mMzuh+60UEZGs6nrxMrMS8FHgdcCLgdVm9uK6xX4D2O/u/wP4M+CPu9tKERHJsjTOvF4OfM/dH3X3Q8BngAvqlrkA+GT4+HPAq83MuthGERHJsDSK1xCwq+b57nBa5DLu/gzwI+A5XWmdiIhkXhoJG1FnUD6LZYIFzS4HLg+f/sTMdrTZnmOBJ9tcJylqSzS1JVpW2pKVdkBvtOXL7n5Oo5l1n3kPAS+ZxT5yL43itRtYXPP8eODxBsvsNrM5wDHAvqiNuftNwE2zbYyZbXH3kdmu30lqSzS1JVpW2pKVdkAx2nKkn3m9Io3Lht8ETjKzF5jZXOAS4O66Ze4GLgsfXwT8k7tHnnmJiEjxdP3My92fMbPfBjYCJeBmd3/IzD4AbHH3u4FPAH9nZt8jOOO6pNvtFBGR7EolVd7dvwR8qW7a+2oe/xS4uEvNydLpt9oSTW2JlpW2ZKUdoLYUhulqnIiI5I3ioUREJHdUvEREJHcKXbxaZSx2eF+Lzew+M/uumT1kZr8bTp9vZvea2SPhv4PhdDOzvwjb9m0ze2kCbSqZ2VYzuyd8/oIwS/KRMFtybjg90axJMxsws8+Z2cPh8XlFWsfFzP53+Pt50MzWm9mzunVczOxmM3vCzB6smdb2cTCzy8LlHzGzy6L2Ncu2rAt/R982s8+b2UDNvCvCtuwws5U104/4byyqLTXz/sDM3MyODZ93/biE0/9X+DofMrM/qZme2HEpPHcv5A9BT8f/BE4E5gLbgBcnuL+FwEvDx0cD/0GQ7fgnwHvD6e8F/jh8fC7wDwQ3bK8ANifQpncDtwH3hM8/C1wSPr4R+K3w8f8EbgwfXwLc3uF2fBJ4e/h4LjCQxnEhSHb5L6BSczze1q3jArwSeCnwYM20to4DMB94NPx3MHw82KG2nA3MCR//cU1bXhz+/RwFvCD8uyp16m8sqi3h9MUEvZa/Dxyb4nE5C/hH4Kjw+XHdOC5F/0m9Aam9cHgFsLHm+RXAFV3c/xeA1wI7gIXhtIXAjvDxx4DVNctPLdeh/R8PfBV4FXBP+Mf+ZM2H09TxCT8gXhE+nhMuZx1qx88QFAyrm97148LhWLL54eu8B1jZzeMCnFD3wdjWcQBWAx+rmT5tuSNpS928NwK3ho+n/e1Uj0sn/8ai2kKQe7oU2Mnh4tX140Lwn5vXRCyX+HEp8k+RLxvGyVhMRHh5aRmwGXiuu+8BCP89rkvt+3PgD4HJ8PlzgAMeZEnW7y/JrMkTgb3A34aXMD9uZvNI4bi4+yjwp8BjwB6C13k/6RyXqnaPQ7fe179OcIaTSlvM7A3AqLtvq5uVxnH5WeAXw0vH/2xmL0uxLYVR5OIVOz+xozs1ezZwJ/B77v7jZotGTOtI+8zsfOAJd78/5v6SPFZzCC7D/LW7LwOeJrg81kiSx2WQYESDFwCLgHkEQ/c02l8q76EW+068TWZ2JfAMcGsabTGzfuBK4H1Rs7vZltAcgkuRK4A1wGfNzFJqS2EUuXjFyVjsKDMrExSuW939rnDyD8xsYTh/IfBEF9p3BvAGM9tJMCTNqwjOxAYsyJKs399UW6xF1uQs7AZ2u/vm8PnnCIpZGsflNcB/uftedx8H7gJ+nnSOS1W7xyHR93XY0eF84K0eXvNKoS0vJPgPxrbwPXw88ICZPS+FthBu+y4PfIPgasaxKbWlMIpcvOJkLHZM+D+xTwDfdffra2bV5jheRvBdWHX6r4a9p1YAP6pePjpS7n6Fux/v7icQvO5/cve3AvcRZElGtSWRrEl3/3/ALjM7OZz0auA7pHBcCC4XrjCz/vD3VW1L149LjXaPw0bgbDMbDM8kzw6nHTEzOwd4D/AGdz9Y18ZLLOh9+QLgJOAbJPQ35u7b3f04dz8hfA/vJugM9f9I4bgAGwj+A4iZ/SxBJ4wn6fJxKZy0v3RL84egZ9J/EPT8uTLhff0CwaWBbwPfCn/OJfiO5KvAI+G/88PljWDE6f8EtgMjCbXrTA73NjyR4I/re8AdHO499azw+ffC+Sd2uA2nAVvCY7OB4BJMKscFuAZ4GHgQ+DuCnmJdOS7AeoLv2sYJPpB/YzbHgeD7qO+FP7/WwbZ8j+C7mur798aa5a8M27IDeF0n/8ai2lI3fyeHO2ykcVzmAp8O3zMPAK/qxnEp+o/ioUREJHeKfNlQRERySsVLRERyR8VLRERyR8VLRERyR8VLRERyR8VLeo6ZTZjZtyxIhv9ibfp5zPXfb2Z/ED7+gJm9psXybzOzRTXPP25mL55d60UkDhUv6UVj7n6au7+EIPHiXbPdkLu/z93/scVibyOIk6qu83Z3/85s9ykiral4Sa/7d8LQUzN7tpl91cweMLPtZnZBdSEzuzIcX+kfgZNrpt9iZheFj99nZt8Mz+huClMcLgJGgFvDs72KmX3NzEbCdVaH+3rQzP64Zrs/MbMPmtk2M9tkZs/tzuEQ6Q0qXtKzzKxEEPFUjd75KfBGd38pwRhMHw4L0OkEET3LgAuBl0VtD7jB3V8WntFVgPPd/XME6SBvDc/2xmr2v4hg3KtXEaSIvMzMVoWz5wGb3H0p8HXgHR174SIFoOIlvahiZt8CfkgwNte94XQDPmRm3yYYPHAIeC7wi8Dn3f2gB0n/jXLmzgqHvdhOUJBOadGOlwFf8yDot5rC/spw3iGC8cIgGHblhDZfo0ihqXhJLxpz99OA5xPkzlW/83orsAA4PZz/A4J8QmgxJIWZPQv4K+Aid18C/E3Nug1XazJv3A9ns00QDKshIjGpeEnPcvcfAb8D/EE4HM0xBOOYjZvZWQTFDYLLdm8Mv686Gnh9xOaqhepJC8Zku6hm3lPA0RHrbAZ+ycyODS9hrgb++YhfmIjof3vS29x9q5ltI/hO61bgi2a2hSAV/eFwmQfM7PZw2veBf4nYzgEz+xuCpPKdBMNaVN0C3GhmYwRDvFfX2WNmVxAMqWLAl9z9C4jIEVOqvIiI5I4uG4qISO6oeImISO6oeImISO6oeImISO6oeImISO6oeImISO6oeImISO78fzrwoK6zzwMQAAAAAElFTkSuQmCC\n",
      "text/plain": [
       "<Figure size 432x432 with 3 Axes>"
      ]
     },
     "metadata": {
      "needs_background": "light"
     },
     "output_type": "display_data"
    }
   ],
   "source": [
    "sns.jointplot(x=\"Radiation\", y=\"Temperature\", data=Data)"
   ]
  },
  {
   "cell_type": "code",
   "execution_count": 145,
   "metadata": {},
   "outputs": [
    {
     "data": {
      "image/png": "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\n",
      "text/plain": [
       "<Figure size 432x288 with 1 Axes>"
      ]
     },
     "metadata": {
      "needs_background": "light"
     },
     "output_type": "display_data"
    }
   ],
   "source": [
    "plt.scatter(Data['Temperature'].values, Data['Radiation'].values, label='Sample Data', s=10)\n",
    "plt.xlabel('Temperature')\n",
    "plt.ylabel('Radiation')\n",
    "plt.legend()\n",
    "plt.show()"
   ]
  },
  {
   "cell_type": "markdown",
   "metadata": {},
   "source": [
    "# Creating a test set    (testando, jaja comento) "
   ]
  },
  {
   "cell_type": "code",
   "execution_count": 146,
   "metadata": {},
   "outputs": [],
   "source": [
<<<<<<< HEAD
    "# As seen in the correlation heatmap the Temperature is a key feature\n",
    "\n",
=======
>>>>>>> cc40dede5930463909dc40fe9ee546bf1bef17eb
    "Data[\"Temp\"] = pd.cut(Data[\"Temperature\"],  \n",
    "                               bins=[0.,5,10,15,20, np.inf],\n",
    "                               labels=[1,2,3,4,5])   # Creating strata"
   ]
  },
  {
   "cell_type": "code",
<<<<<<< HEAD
   "execution_count": 28,
=======
   "execution_count": 147,
>>>>>>> cc40dede5930463909dc40fe9ee546bf1bef17eb
   "metadata": {},
   "outputs": [
    {
     "data": {
      "image/png": "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\n",
      "text/plain": [
<<<<<<< HEAD
=======
       "(array([ 1396.,     0., 18087.,     0.,     0., 10020.,     0.,  3130.,\n",
       "            0.,    53.]),\n",
       " array([1. , 1.4, 1.8, 2.2, 2.6, 3. , 3.4, 3.8, 4.2, 4.6, 5. ]),\n",
       " <a list of 10 Patch objects>)"
      ]
     },
     "execution_count": 147,
     "metadata": {},
     "output_type": "execute_result"
    },
    {
     "data": {
      "image/png": "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\n",
      "text/plain": [
>>>>>>> cc40dede5930463909dc40fe9ee546bf1bef17eb
       "<Figure size 432x288 with 2 Axes>"
      ]
     },
     "metadata": {
      "needs_background": "light"
     },
     "output_type": "display_data"
    }
   ],
   "source": [
    "figs, axes = plt.subplots(1,2) # Check if divisions were well chosen \n",
    "plt.tight_layout() \n",
    "\n",
    "axes[0].hist(Data[\"Temperature\"], bins = 50) \n",
    "axes[1].hist(Data[\"Temp\"])\n",
    "\n",
    "plt.show()"
   ]
  },
  {
   "cell_type": "code",
   "execution_count": 148,
   "metadata": {},
   "outputs": [],
   "source": [
    "#Using the stratifiedshufflesplit \n",
    "from sklearn.model_selection import train_test_split\n",
    "from sklearn.model_selection import StratifiedShuffleSplit\n",
    "\n",
    "\n",
    "split = StratifiedShuffleSplit(n_splits=1, test_size=0.2, random_state=42)\n",
    "for train_index, test_index in split.split(Data, Data['Temp']):\n",
    "    strat_train_set = Data.loc[train_index]\n",
    "    strat_test_set = Data.loc[test_index] "
   ]
  },
  {
   "cell_type": "code",
   "execution_count": 149,
   "metadata": {},
   "outputs": [
    {
     "data": {
      "text/plain": [
       "2    0.551438\n",
       "3    0.307366\n",
       "4    0.096872\n",
       "1    0.042680\n",
       "5    0.001644\n",
       "Name: Temp, dtype: float64"
      ]
     },
     "execution_count": 149,
     "metadata": {},
     "output_type": "execute_result"
    }
   ],
   "source": [
    "strat_train_set['Temp'].value_counts() / len(strat_train_set['Temp']) # Check proportions "
   ]
  },
  {
   "cell_type": "code",
   "execution_count": 150,
   "metadata": {},
   "outputs": [
    {
     "data": {
      "text/plain": [
       "2    0.553356\n",
       "3    0.306553\n",
       "4    0.095760\n",
       "1    0.042709\n",
       "5    0.001621\n",
       "Name: Temp, dtype: float64"
      ]
     },
     "execution_count": 150,
     "metadata": {},
     "output_type": "execute_result"
    }
   ],
   "source": [
    "Data['Temp'].value_counts() / len(Data['Temp']) # Representativity is maintained "
   ]
  },
  {
   "cell_type": "code",
   "execution_count": 153,
   "metadata": {},
   "outputs": [],
   "source": [
    "for set_ in (strat_train_set, strat_test_set):  # Remove strata \n",
    "    set_.drop(\"Temp\", axis=1, inplace=True)"
   ]
  },
  {
   "cell_type": "code",
   "execution_count": null,
   "metadata": {},
   "outputs": [],
   "source": []
  }
 ],
 "metadata": {
  "kernelspec": {
   "display_name": "Python 3",
   "language": "python",
   "name": "python3"
  },
  "language_info": {
   "codemirror_mode": {
    "name": "ipython",
    "version": 3
   },
   "file_extension": ".py",
   "mimetype": "text/x-python",
   "name": "python",
   "nbconvert_exporter": "python",
   "pygments_lexer": "ipython3",
   "version": "3.7.3"
  }
 },
 "nbformat": 4,
 "nbformat_minor": 4
}
