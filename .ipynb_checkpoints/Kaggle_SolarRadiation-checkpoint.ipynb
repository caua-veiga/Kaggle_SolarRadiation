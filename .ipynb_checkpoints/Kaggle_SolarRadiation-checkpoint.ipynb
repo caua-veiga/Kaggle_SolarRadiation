{
 "cells": [
  {
   "cell_type": "code",
   "execution_count": 1,
   "metadata": {},
   "outputs": [],
   "source": [
    "import numpy as np\n",
    "import pandas as pd\n",
    "import matplotlib.pyplot as plt\n",
    "%matplotlib inline\n",
    "import seaborn as sns"
   ]
  },
  {
   "cell_type": "markdown",
   "metadata": {},
   "source": []
  },
  {
   "cell_type": "markdown",
   "metadata": {},
   "source": [
    "## About the data set:\n",
    "\n",
    "These datasets are meteorological data from the HI-SEAS weather station from four months (September through December 2016) between Mission IV and Mission V.\n",
    "\n",
    "For each dataset, the fields are:\n",
    "\n",
    "A row number (1-n) useful in sorting this export's results\n",
    "The UNIX time_t date (seconds since Jan 1, 1970). Useful in sorting this export's results with other export's results\n",
    "The date in yyyy-mm-dd format\n",
    "The local time of day in hh:mm:ss 24-hour format\n",
    "The numeric data, if any (may be an empty string)\n",
    "The text data, if any (may be an empty string)\n",
    "\n",
    "The units of each dataset are:\n",
    "\n",
    "--Solar radiation: watts per meter^2\n",
    "\n",
    "--Temperature: degrees Fahrenheit\n",
    "\n",
    "--Humidity: percent\n",
    "\n",
    "--Barometric pressure: Hg\n",
    "\n",
    "--Wind direction: degrees\n",
    "\n",
    "--Wind speed: miles per hour\n",
    "\n",
    "--Sunrise/sunset: Hawaii time"
   ]
  },
  {
   "cell_type": "markdown",
   "metadata": {},
   "source": [
    "# Explore the data to gain insights"
   ]
  },
  {
   "cell_type": "code",
   "execution_count": 2,
   "metadata": {
    "scrolled": true
   },
   "outputs": [
    {
     "data": {
      "text/html": [
       "<div>\n",
       "<style scoped>\n",
       "    .dataframe tbody tr th:only-of-type {\n",
       "        vertical-align: middle;\n",
       "    }\n",
       "\n",
       "    .dataframe tbody tr th {\n",
       "        vertical-align: top;\n",
       "    }\n",
       "\n",
       "    .dataframe thead th {\n",
       "        text-align: right;\n",
       "    }\n",
       "</style>\n",
       "<table border=\"1\" class=\"dataframe\">\n",
       "  <thead>\n",
       "    <tr style=\"text-align: right;\">\n",
       "      <th></th>\n",
       "      <th>UNIXTime</th>\n",
       "      <th>Data</th>\n",
       "      <th>Time</th>\n",
       "      <th>Radiation</th>\n",
       "      <th>Temperature</th>\n",
       "      <th>Pressure</th>\n",
       "      <th>Humidity</th>\n",
       "      <th>WindDirection(Degrees)</th>\n",
       "      <th>Speed</th>\n",
       "      <th>TimeSunRise</th>\n",
       "      <th>TimeSunSet</th>\n",
       "    </tr>\n",
       "  </thead>\n",
       "  <tbody>\n",
       "    <tr>\n",
       "      <th>7416</th>\n",
       "      <td>1472724008</td>\n",
       "      <td>9/1/2016 12:00:00 AM</td>\n",
       "      <td>00:00:08</td>\n",
       "      <td>2.58</td>\n",
       "      <td>51</td>\n",
       "      <td>30.43</td>\n",
       "      <td>103</td>\n",
       "      <td>77.27</td>\n",
       "      <td>11.25</td>\n",
       "      <td>06:07:00</td>\n",
       "      <td>18:38:00</td>\n",
       "    </tr>\n",
       "    <tr>\n",
       "      <th>7415</th>\n",
       "      <td>1472724310</td>\n",
       "      <td>9/1/2016 12:00:00 AM</td>\n",
       "      <td>00:05:10</td>\n",
       "      <td>2.83</td>\n",
       "      <td>51</td>\n",
       "      <td>30.43</td>\n",
       "      <td>103</td>\n",
       "      <td>153.44</td>\n",
       "      <td>9.00</td>\n",
       "      <td>06:07:00</td>\n",
       "      <td>18:38:00</td>\n",
       "    </tr>\n",
       "    <tr>\n",
       "      <th>7414</th>\n",
       "      <td>1472725206</td>\n",
       "      <td>9/1/2016 12:00:00 AM</td>\n",
       "      <td>00:20:06</td>\n",
       "      <td>2.16</td>\n",
       "      <td>51</td>\n",
       "      <td>30.43</td>\n",
       "      <td>103</td>\n",
       "      <td>142.04</td>\n",
       "      <td>7.87</td>\n",
       "      <td>06:07:00</td>\n",
       "      <td>18:38:00</td>\n",
       "    </tr>\n",
       "    <tr>\n",
       "      <th>7413</th>\n",
       "      <td>1472725505</td>\n",
       "      <td>9/1/2016 12:00:00 AM</td>\n",
       "      <td>00:25:05</td>\n",
       "      <td>2.21</td>\n",
       "      <td>51</td>\n",
       "      <td>30.43</td>\n",
       "      <td>103</td>\n",
       "      <td>144.12</td>\n",
       "      <td>18.00</td>\n",
       "      <td>06:07:00</td>\n",
       "      <td>18:38:00</td>\n",
       "    </tr>\n",
       "    <tr>\n",
       "      <th>7412</th>\n",
       "      <td>1472725809</td>\n",
       "      <td>9/1/2016 12:00:00 AM</td>\n",
       "      <td>00:30:09</td>\n",
       "      <td>2.25</td>\n",
       "      <td>51</td>\n",
       "      <td>30.43</td>\n",
       "      <td>103</td>\n",
       "      <td>67.42</td>\n",
       "      <td>11.25</td>\n",
       "      <td>06:07:00</td>\n",
       "      <td>18:38:00</td>\n",
       "    </tr>\n",
       "  </tbody>\n",
       "</table>\n",
       "</div>"
      ],
      "text/plain": [
       "        UNIXTime                  Data      Time  Radiation  Temperature  \\\n",
       "7416  1472724008  9/1/2016 12:00:00 AM  00:00:08       2.58           51   \n",
       "7415  1472724310  9/1/2016 12:00:00 AM  00:05:10       2.83           51   \n",
       "7414  1472725206  9/1/2016 12:00:00 AM  00:20:06       2.16           51   \n",
       "7413  1472725505  9/1/2016 12:00:00 AM  00:25:05       2.21           51   \n",
       "7412  1472725809  9/1/2016 12:00:00 AM  00:30:09       2.25           51   \n",
       "\n",
       "      Pressure  Humidity  WindDirection(Degrees)  Speed TimeSunRise TimeSunSet  \n",
       "7416     30.43       103                   77.27  11.25    06:07:00   18:38:00  \n",
       "7415     30.43       103                  153.44   9.00    06:07:00   18:38:00  \n",
       "7414     30.43       103                  142.04   7.87    06:07:00   18:38:00  \n",
       "7413     30.43       103                  144.12  18.00    06:07:00   18:38:00  \n",
       "7412     30.43       103                   67.42  11.25    06:07:00   18:38:00  "
      ]
     },
     "execution_count": 2,
     "metadata": {},
     "output_type": "execute_result"
    }
   ],
   "source": [
    "#Loading the data into a pandas data frame\n",
    "\n",
    "Data = pd.read_csv(\"SolarPrediction.csv\")\n",
    "Data = Data.sort_values(['UNIXTime'], ascending = [True])\n",
    "Data.head()"
   ]
  },
  {
   "cell_type": "markdown",
   "metadata": {},
   "source": [
    "Note that the 'Temperature' column is in degrees Fahrenheit. We decided to transform it in Celsius"
   ]
  },
  {
   "cell_type": "code",
   "execution_count": 3,
   "metadata": {},
   "outputs": [],
   "source": [
    "def celsius(F):\n",
    "    '''Convert Fahrenheit into Celsius'''\n",
    "    return (F-32)/1.8\n",
    "\n",
    "Temp_c = [round(celsius(F),0) for F in Data['Temperature'].values] #List of Celsius Values"
   ]
  },
  {
   "cell_type": "code",
   "execution_count": 4,
   "metadata": {},
   "outputs": [],
   "source": [
    "#Changing the values in the dataframe\n",
    "for index,celsius in enumerate(Temp_c):\n",
    "    Data['Temperature'].values[index] = celsius   "
   ]
  },
  {
   "cell_type": "markdown",
   "metadata": {},
   "source": [
    "We also want to add a 'month' column in order to group our data and make month predictions"
   ]
  },
  {
   "cell_type": "code",
   "execution_count": 5,
   "metadata": {},
   "outputs": [],
   "source": [
    "# I decide to use numerical values for the month column and convert to string when plotting... (memory :) ) \n",
    "\n",
    "num_month = []\n",
    "\n",
    "for month in Data[\"Data\"].values:  #Take a look in how the objct is given in the \"Data\" column\n",
    "    if int(month[0]) == 9:   # In month 9 we want the first index\n",
    "        num_month.append(9)\n",
    "    if int(month[0]) == 1: # In months 10,11,12 we want the first 2 index\n",
    "        num_month.append(int(month[:2]))"
   ]
  },
  {
   "cell_type": "code",
   "execution_count": 6,
   "metadata": {},
   "outputs": [],
   "source": [
    "# I decide to use numerical values for the month column and convert to string when plotting... (memory :) ) \n",
    "\n",
    "num_month_df = pd.DataFrame({'Month': num_month}) # Creating a dataframe \n",
    "   \n",
    "Data = Data.join(num_month_df) # Merging both data frames  "
   ]
  },
  {
   "cell_type": "code",
   "execution_count": 7,
   "metadata": {},
   "outputs": [
    {
     "data": {
      "text/html": [
       "<div>\n",
       "<style scoped>\n",
       "    .dataframe tbody tr th:only-of-type {\n",
       "        vertical-align: middle;\n",
       "    }\n",
       "\n",
       "    .dataframe tbody tr th {\n",
       "        vertical-align: top;\n",
       "    }\n",
       "\n",
       "    .dataframe thead th {\n",
       "        text-align: right;\n",
       "    }\n",
       "</style>\n",
       "<table border=\"1\" class=\"dataframe\">\n",
       "  <thead>\n",
       "    <tr style=\"text-align: right;\">\n",
       "      <th></th>\n",
       "      <th>UNIXTime</th>\n",
       "      <th>Data</th>\n",
       "      <th>Time</th>\n",
       "      <th>Radiation</th>\n",
       "      <th>Temperature</th>\n",
       "      <th>Pressure</th>\n",
       "      <th>Humidity</th>\n",
       "      <th>WindDirection(Degrees)</th>\n",
       "      <th>Speed</th>\n",
       "      <th>TimeSunRise</th>\n",
       "      <th>TimeSunSet</th>\n",
       "      <th>Month</th>\n",
       "    </tr>\n",
       "  </thead>\n",
       "  <tbody>\n",
       "    <tr>\n",
       "      <th>7416</th>\n",
       "      <td>1472724008</td>\n",
       "      <td>9/1/2016 12:00:00 AM</td>\n",
       "      <td>00:00:08</td>\n",
       "      <td>2.58</td>\n",
       "      <td>11</td>\n",
       "      <td>30.43</td>\n",
       "      <td>103</td>\n",
       "      <td>77.27</td>\n",
       "      <td>11.25</td>\n",
       "      <td>06:07:00</td>\n",
       "      <td>18:38:00</td>\n",
       "      <td>9</td>\n",
       "    </tr>\n",
       "    <tr>\n",
       "      <th>7415</th>\n",
       "      <td>1472724310</td>\n",
       "      <td>9/1/2016 12:00:00 AM</td>\n",
       "      <td>00:05:10</td>\n",
       "      <td>2.83</td>\n",
       "      <td>11</td>\n",
       "      <td>30.43</td>\n",
       "      <td>103</td>\n",
       "      <td>153.44</td>\n",
       "      <td>9.00</td>\n",
       "      <td>06:07:00</td>\n",
       "      <td>18:38:00</td>\n",
       "      <td>9</td>\n",
       "    </tr>\n",
       "    <tr>\n",
       "      <th>7414</th>\n",
       "      <td>1472725206</td>\n",
       "      <td>9/1/2016 12:00:00 AM</td>\n",
       "      <td>00:20:06</td>\n",
       "      <td>2.16</td>\n",
       "      <td>11</td>\n",
       "      <td>30.43</td>\n",
       "      <td>103</td>\n",
       "      <td>142.04</td>\n",
       "      <td>7.87</td>\n",
       "      <td>06:07:00</td>\n",
       "      <td>18:38:00</td>\n",
       "      <td>9</td>\n",
       "    </tr>\n",
       "    <tr>\n",
       "      <th>7413</th>\n",
       "      <td>1472725505</td>\n",
       "      <td>9/1/2016 12:00:00 AM</td>\n",
       "      <td>00:25:05</td>\n",
       "      <td>2.21</td>\n",
       "      <td>11</td>\n",
       "      <td>30.43</td>\n",
       "      <td>103</td>\n",
       "      <td>144.12</td>\n",
       "      <td>18.00</td>\n",
       "      <td>06:07:00</td>\n",
       "      <td>18:38:00</td>\n",
       "      <td>9</td>\n",
       "    </tr>\n",
       "    <tr>\n",
       "      <th>7412</th>\n",
       "      <td>1472725809</td>\n",
       "      <td>9/1/2016 12:00:00 AM</td>\n",
       "      <td>00:30:09</td>\n",
       "      <td>2.25</td>\n",
       "      <td>11</td>\n",
       "      <td>30.43</td>\n",
       "      <td>103</td>\n",
       "      <td>67.42</td>\n",
       "      <td>11.25</td>\n",
       "      <td>06:07:00</td>\n",
       "      <td>18:38:00</td>\n",
       "      <td>9</td>\n",
       "    </tr>\n",
       "  </tbody>\n",
       "</table>\n",
       "</div>"
      ],
      "text/plain": [
       "        UNIXTime                  Data      Time  Radiation  Temperature  \\\n",
       "7416  1472724008  9/1/2016 12:00:00 AM  00:00:08       2.58           11   \n",
       "7415  1472724310  9/1/2016 12:00:00 AM  00:05:10       2.83           11   \n",
       "7414  1472725206  9/1/2016 12:00:00 AM  00:20:06       2.16           11   \n",
       "7413  1472725505  9/1/2016 12:00:00 AM  00:25:05       2.21           11   \n",
       "7412  1472725809  9/1/2016 12:00:00 AM  00:30:09       2.25           11   \n",
       "\n",
       "      Pressure  Humidity  WindDirection(Degrees)  Speed TimeSunRise  \\\n",
       "7416     30.43       103                   77.27  11.25    06:07:00   \n",
       "7415     30.43       103                  153.44   9.00    06:07:00   \n",
       "7414     30.43       103                  142.04   7.87    06:07:00   \n",
       "7413     30.43       103                  144.12  18.00    06:07:00   \n",
       "7412     30.43       103                   67.42  11.25    06:07:00   \n",
       "\n",
       "     TimeSunSet  Month  \n",
       "7416   18:38:00      9  \n",
       "7415   18:38:00      9  \n",
       "7414   18:38:00      9  \n",
       "7413   18:38:00      9  \n",
       "7412   18:38:00      9  "
      ]
     },
     "execution_count": 7,
     "metadata": {},
     "output_type": "execute_result"
    }
   ],
   "source": [
    "# Now we check our changes:\n",
    "\n",
    "Data.head() # Note that we added a month column and we converted the temperature to celsius"
   ]
  },
  {
   "cell_type": "code",
   "execution_count": 8,
   "metadata": {
    "scrolled": true
   },
   "outputs": [
    {
     "name": "stdout",
     "output_type": "stream",
     "text": [
      "<class 'pandas.core.frame.DataFrame'>\n",
      "Int64Index: 32686 entries, 7416 to 24522\n",
      "Data columns (total 12 columns):\n",
      " #   Column                  Non-Null Count  Dtype  \n",
      "---  ------                  --------------  -----  \n",
      " 0   UNIXTime                32686 non-null  int64  \n",
      " 1   Data                    32686 non-null  object \n",
      " 2   Time                    32686 non-null  object \n",
      " 3   Radiation               32686 non-null  float64\n",
      " 4   Temperature             32686 non-null  int64  \n",
      " 5   Pressure                32686 non-null  float64\n",
      " 6   Humidity                32686 non-null  int64  \n",
      " 7   WindDirection(Degrees)  32686 non-null  float64\n",
      " 8   Speed                   32686 non-null  float64\n",
      " 9   TimeSunRise             32686 non-null  object \n",
      " 10  TimeSunSet              32686 non-null  object \n",
      " 11  Month                   32686 non-null  int64  \n",
      "dtypes: float64(4), int64(4), object(4)\n",
      "memory usage: 3.7+ MB\n"
     ]
    }
   ],
   "source": [
    "#Checking the data-type of the columns and if we have missing entries\n",
    "\n",
    "Data.info()"
   ]
  },
  {
   "cell_type": "markdown",
   "metadata": {},
   "source": [
    "The most precise approach would be to make a model based on the given data of time, date, unixtime, etc... But as we know, the others attributes are dependents of those (e.g. temp has a dependence on season), so to simplify our analysis we will just drop those attributes and try to find key features to create our model\n",
    "\n",
    "\n",
    "So all the 'object' columns is not important neither is 'UNIXTime', let's drop them\n",
    "\n",
    "*** Probably is a good idea to make an future analysis also based on time, maybe reasulting in a richer model or at least a richer visualization *** "
   ]
  },
  {
   "cell_type": "code",
   "execution_count": 9,
   "metadata": {},
   "outputs": [],
   "source": [
    "Data = Data.drop([\n",
    "    'UNIXTime',\n",
    "    'Data',\n",
    "    'Time',\n",
    "    'TimeSunRise',\n",
    "    'TimeSunSet'],\n",
    "    axis = 1) "
   ]
  },
  {
   "cell_type": "code",
   "execution_count": 10,
   "metadata": {},
   "outputs": [
    {
     "data": {
      "text/html": [
       "<div>\n",
       "<style scoped>\n",
       "    .dataframe tbody tr th:only-of-type {\n",
       "        vertical-align: middle;\n",
       "    }\n",
       "\n",
       "    .dataframe tbody tr th {\n",
       "        vertical-align: top;\n",
       "    }\n",
       "\n",
       "    .dataframe thead th {\n",
       "        text-align: right;\n",
       "    }\n",
       "</style>\n",
       "<table border=\"1\" class=\"dataframe\">\n",
       "  <thead>\n",
       "    <tr style=\"text-align: right;\">\n",
       "      <th></th>\n",
       "      <th>Radiation</th>\n",
       "      <th>Temperature</th>\n",
       "      <th>Pressure</th>\n",
       "      <th>Humidity</th>\n",
       "      <th>WindDirection(Degrees)</th>\n",
       "      <th>Speed</th>\n",
       "      <th>Month</th>\n",
       "    </tr>\n",
       "  </thead>\n",
       "  <tbody>\n",
       "    <tr>\n",
       "      <th>count</th>\n",
       "      <td>32686.000000</td>\n",
       "      <td>32686.000000</td>\n",
       "      <td>32686.000000</td>\n",
       "      <td>32686.000000</td>\n",
       "      <td>32686.000000</td>\n",
       "      <td>32686.000000</td>\n",
       "      <td>32686.000000</td>\n",
       "    </tr>\n",
       "    <tr>\n",
       "      <th>mean</th>\n",
       "      <td>207.124697</td>\n",
       "      <td>10.600196</td>\n",
       "      <td>30.422879</td>\n",
       "      <td>75.016307</td>\n",
       "      <td>143.489821</td>\n",
       "      <td>6.243869</td>\n",
       "      <td>10.526066</td>\n",
       "    </tr>\n",
       "    <tr>\n",
       "      <th>std</th>\n",
       "      <td>315.916387</td>\n",
       "      <td>3.471827</td>\n",
       "      <td>0.054673</td>\n",
       "      <td>25.990219</td>\n",
       "      <td>83.167500</td>\n",
       "      <td>3.490474</td>\n",
       "      <td>1.096691</td>\n",
       "    </tr>\n",
       "    <tr>\n",
       "      <th>min</th>\n",
       "      <td>1.110000</td>\n",
       "      <td>1.000000</td>\n",
       "      <td>30.190000</td>\n",
       "      <td>8.000000</td>\n",
       "      <td>0.090000</td>\n",
       "      <td>0.000000</td>\n",
       "      <td>9.000000</td>\n",
       "    </tr>\n",
       "    <tr>\n",
       "      <th>25%</th>\n",
       "      <td>1.230000</td>\n",
       "      <td>8.000000</td>\n",
       "      <td>30.400000</td>\n",
       "      <td>56.000000</td>\n",
       "      <td>82.227500</td>\n",
       "      <td>3.370000</td>\n",
       "      <td>10.000000</td>\n",
       "    </tr>\n",
       "    <tr>\n",
       "      <th>50%</th>\n",
       "      <td>2.660000</td>\n",
       "      <td>10.000000</td>\n",
       "      <td>30.430000</td>\n",
       "      <td>85.000000</td>\n",
       "      <td>147.700000</td>\n",
       "      <td>5.620000</td>\n",
       "      <td>11.000000</td>\n",
       "    </tr>\n",
       "    <tr>\n",
       "      <th>75%</th>\n",
       "      <td>354.235000</td>\n",
       "      <td>13.000000</td>\n",
       "      <td>30.460000</td>\n",
       "      <td>97.000000</td>\n",
       "      <td>179.310000</td>\n",
       "      <td>7.870000</td>\n",
       "      <td>11.000000</td>\n",
       "    </tr>\n",
       "    <tr>\n",
       "      <th>max</th>\n",
       "      <td>1601.260000</td>\n",
       "      <td>22.000000</td>\n",
       "      <td>30.560000</td>\n",
       "      <td>103.000000</td>\n",
       "      <td>359.950000</td>\n",
       "      <td>40.500000</td>\n",
       "      <td>12.000000</td>\n",
       "    </tr>\n",
       "  </tbody>\n",
       "</table>\n",
       "</div>"
      ],
      "text/plain": [
       "          Radiation   Temperature      Pressure      Humidity  \\\n",
       "count  32686.000000  32686.000000  32686.000000  32686.000000   \n",
       "mean     207.124697     10.600196     30.422879     75.016307   \n",
       "std      315.916387      3.471827      0.054673     25.990219   \n",
       "min        1.110000      1.000000     30.190000      8.000000   \n",
       "25%        1.230000      8.000000     30.400000     56.000000   \n",
       "50%        2.660000     10.000000     30.430000     85.000000   \n",
       "75%      354.235000     13.000000     30.460000     97.000000   \n",
       "max     1601.260000     22.000000     30.560000    103.000000   \n",
       "\n",
       "       WindDirection(Degrees)         Speed         Month  \n",
       "count            32686.000000  32686.000000  32686.000000  \n",
       "mean               143.489821      6.243869     10.526066  \n",
       "std                 83.167500      3.490474      1.096691  \n",
       "min                  0.090000      0.000000      9.000000  \n",
       "25%                 82.227500      3.370000     10.000000  \n",
       "50%                147.700000      5.620000     11.000000  \n",
       "75%                179.310000      7.870000     11.000000  \n",
       "max                359.950000     40.500000     12.000000  "
      ]
     },
     "execution_count": 10,
     "metadata": {},
     "output_type": "execute_result"
    }
   ],
   "source": [
    "#Using the describe() method to gain some fast insights about the data\n",
    "\n",
    "Data.describe()"
   ]
  },
  {
   "cell_type": "markdown",
   "metadata": {},
   "source": [
    "The first thing we have to have in mind is what we wanna do. Our goal in that project is to predict the level of solar radiation.\n",
    "\n",
    "We can see that all entries are 'non-null' wich will make our work easier.\n",
    "\n",
    "We can also see that the standard deviation of 'Pressure' is pretty low and the standard deviation of 'Radiation' is the greater of all features. So, if Pressure is almost constant while Radiation has a high standard deviation, we can assume that pressure is not an important feature to our goal."
   ]
  },
  {
   "cell_type": "code",
   "execution_count": 11,
   "metadata": {},
   "outputs": [
    {
     "data": {
      "image/png": "[encoded data removed]",
      "text/plain": [
       "<Figure size 1440x1080 with 9 Axes>"
      ]
     },
     "metadata": {
      "needs_background": "light"
     },
     "output_type": "display_data"
    }
   ],
   "source": [
    "#Plotting a histogram of each numerical feature in order to gain more insights\n",
    "\n",
    "Data.hist(bins=50, figsize=(20,15))\n",
    "plt.show()"
   ]
  },
  {
   "cell_type": "code",
   "execution_count": 12,
   "metadata": {},
   "outputs": [
    {
     "data": {
      "text/plain": [
       "<matplotlib.axes._subplots.AxesSubplot at 0x13fcd850>"
      ]
     },
     "execution_count": 12,
     "metadata": {},
     "output_type": "execute_result"
    },
    {
     "data": {
      "image/png": "[encoded data removed]",
      "text/plain": [
       "<Figure size 1080x1080 with 2 Axes>"
      ]
     },
     "metadata": {
      "needs_background": "light"
     },
     "output_type": "display_data"
    }
   ],
   "source": [
    "#Creating a correlation heatmap using seaborn\n",
    "\n",
    "cor = Data.corr()\n",
    "plt.figure(figsize=(15,15))\n",
    "sns.heatmap(cor, annot=True)"
   ]
  },
  {
   "cell_type": "markdown",
   "metadata": {},
   "source": [
    "With that correlation heatmap it's easier to see wich feature is most important for the model we want to create.\n",
    "\n",
    "As you can see the highest correlation (magnitude) with Radiation is 'Temperature' (pos. correlated, 0.73), followed by 'Humidity' and 'WindDirection' (both neg. correlated, -0.23)"
   ]
  },
  {
   "cell_type": "markdown",
   "metadata": {},
   "source": [
    "Let's plot those attributes"
   ]
  },
  {
   "cell_type": "code",
   "execution_count": 13,
   "metadata": {},
   "outputs": [
    {
     "data": {
      "text/plain": [
       "<seaborn.axisgrid.JointGrid at 0x13ff0f90>"
      ]
     },
     "execution_count": 13,
     "metadata": {},
     "output_type": "execute_result"
    },
    {
     "data": {
      "image/png": "[encoded data removed]",
      "text/plain": [
       "<Figure size 432x432 with 3 Axes>"
      ]
     },
     "metadata": {
      "needs_background": "light"
     },
     "output_type": "display_data"
    }
   ],
   "source": [
    "sns.jointplot(x=\"Radiation\", y=\"Temperature\", data=Data)"
   ]
  },
  {
   "cell_type": "code",
   "execution_count": 14,
   "metadata": {},
   "outputs": [
    {
     "data": {
      "image/png": "[encoded data removed]",
      "text/plain": [
       "<Figure size 432x288 with 1 Axes>"
      ]
     },
     "metadata": {
      "needs_background": "light"
     },
     "output_type": "display_data"
    }
   ],
   "source": [
    "plt.scatter(Data['Temperature'].values, Data['Radiation'].values, label='Sample Data', s=10)\n",
    "plt.xlabel('Temperature')\n",
    "plt.ylabel('Radiation')\n",
    "plt.legend()\n",
    "plt.show()"
   ]
  },
  {
   "cell_type": "markdown",
   "metadata": {},
   "source": [
    "# Creating a test set "
   ]
  },
  {
   "cell_type": "code",
   "execution_count": 15,
   "metadata": {},
   "outputs": [],
   "source": [
    "# As seen in the correlation heatmap the Temperature is a key feature\n",
    "\n",
    "Data[\"Temp\"] = pd.cut(Data[\"Temperature\"],  \n",
    "                               bins=[0.,5,10,15,20, np.inf],\n",
    "                               labels=[1,2,3,4,5])   # Creating strata"
   ]
  },
  {
   "cell_type": "code",
   "execution_count": 16,
   "metadata": {},
   "outputs": [
    {
     "data": {
      "image/png": "[encoded data removed]",
      "text/plain": [
       "<Figure size 432x288 with 2 Axes>"
      ]
     },
     "metadata": {
      "needs_background": "light"
     },
     "output_type": "display_data"
    }
   ],
   "source": [
    "figs, axes = plt.subplots(1,2) # Check if divisions were well chosen \n",
    "plt.tight_layout() \n",
    "\n",
    "axes[0].hist(Data[\"Temperature\"], bins = 50) \n",
    "axes[1].hist(Data[\"Temp\"])\n",
    "\n",
    "plt.show()"
   ]
  },
  {
   "cell_type": "code",
   "execution_count": 17,
   "metadata": {},
   "outputs": [],
   "source": [
    "#Using the stratifiedshufflesplit \n",
    "from sklearn.model_selection import train_test_split\n",
    "from sklearn.model_selection import StratifiedShuffleSplit\n",
    "\n",
    "\n",
    "split = StratifiedShuffleSplit(n_splits=1, test_size=0.2, random_state=42) #Trainning set: 80% ; Test set: 20%\n",
    "for train_index, test_index in split.split(Data, Data['Temp']):\n",
    "    strat_train_set = Data.loc[train_index]\n",
    "    strat_test_set = Data.loc[test_index] "
   ]
  },
  {
   "cell_type": "code",
   "execution_count": 20,
   "metadata": {},
   "outputs": [],
   "source": [
    "prop_train_set = strat_train_set['Temp'].value_counts() / len(strat_train_set['Temp']) # Check proportions in the train set "
   ]
  },
  {
   "cell_type": "code",
   "execution_count": 21,
   "metadata": {
    "scrolled": true
   },
   "outputs": [],
   "source": [
    "prop_raw_set = Data['Temp'].value_counts() / len(Data['Temp']) # Check proportions in the Raw Data"
   ]
  },
  {
   "cell_type": "code",
   "execution_count": 23,
   "metadata": {},
   "outputs": [
    {
     "data": {
      "text/html": [
       "<div>\n",
       "<style scoped>\n",
       "    .dataframe tbody tr th:only-of-type {\n",
       "        vertical-align: middle;\n",
       "    }\n",
       "\n",
       "    .dataframe tbody tr th {\n",
       "        vertical-align: top;\n",
       "    }\n",
       "\n",
       "    .dataframe thead th {\n",
       "        text-align: right;\n",
       "    }\n",
       "</style>\n",
       "<table border=\"1\" class=\"dataframe\">\n",
       "  <thead>\n",
       "    <tr style=\"text-align: right;\">\n",
       "      <th></th>\n",
       "      <th>Raw Data</th>\n",
       "      <th>Train Set</th>\n",
       "    </tr>\n",
       "  </thead>\n",
       "  <tbody>\n",
       "    <tr>\n",
       "      <th>2</th>\n",
       "      <td>0.507649</td>\n",
       "      <td>0.508834</td>\n",
       "    </tr>\n",
       "    <tr>\n",
       "      <th>3</th>\n",
       "      <td>0.341002</td>\n",
       "      <td>0.340370</td>\n",
       "    </tr>\n",
       "    <tr>\n",
       "      <th>4</th>\n",
       "      <td>0.118828</td>\n",
       "      <td>0.118173</td>\n",
       "    </tr>\n",
       "    <tr>\n",
       "      <th>1</th>\n",
       "      <td>0.029799</td>\n",
       "      <td>0.029830</td>\n",
       "    </tr>\n",
       "    <tr>\n",
       "      <th>5</th>\n",
       "      <td>0.002723</td>\n",
       "      <td>0.002792</td>\n",
       "    </tr>\n",
       "  </tbody>\n",
       "</table>\n",
       "</div>"
      ],
      "text/plain": [
       "   Raw Data  Train Set\n",
       "2  0.507649   0.508834\n",
       "3  0.341002   0.340370\n",
       "4  0.118828   0.118173\n",
       "1  0.029799   0.029830\n",
       "5  0.002723   0.002792"
      ]
     },
     "execution_count": 23,
     "metadata": {},
     "output_type": "execute_result"
    }
   ],
   "source": [
    "check_prop = pd.DataFrame({\n",
    "    'Raw Data': prop_raw_set,\n",
    "    'Train Set': prop_train_set})\n",
    "\n",
    "check_prop.head() # Representativity is maintained "
   ]
  },
  {
   "cell_type": "code",
   "execution_count": 20,
   "metadata": {},
   "outputs": [],
   "source": [
    "for set_ in (strat_train_set, strat_test_set):  # Remove strata \n",
    "    set_.drop(\"Temp\", axis=1, inplace=True)"
   ]
  },
  {
   "cell_type": "markdown",
   "metadata": {},
   "source": [
    "# Mean month values"
   ]
  },
  {
   "cell_type": "code",
   "execution_count": 21,
   "metadata": {},
   "outputs": [],
   "source": [
    "df_strat = strat_train_set.copy() #Don't wanna to mess with the original train set"
   ]
  },
  {
   "cell_type": "markdown",
   "metadata": {},
   "source": [
    "Now we wanna see the mean Temperature of each month"
   ]
  },
  {
   "cell_type": "code",
   "execution_count": 22,
   "metadata": {},
   "outputs": [
    {
     "data": {
      "text/html": [
       "<div>\n",
       "<style scoped>\n",
       "    .dataframe tbody tr th:only-of-type {\n",
       "        vertical-align: middle;\n",
       "    }\n",
       "\n",
       "    .dataframe tbody tr th {\n",
       "        vertical-align: top;\n",
       "    }\n",
       "\n",
       "    .dataframe thead th {\n",
       "        text-align: right;\n",
       "    }\n",
       "</style>\n",
       "<table border=\"1\" class=\"dataframe\">\n",
       "  <thead>\n",
       "    <tr style=\"text-align: right;\">\n",
       "      <th></th>\n",
       "      <th>Radiation</th>\n",
       "      <th>Temperature</th>\n",
       "      <th>Pressure</th>\n",
       "      <th>Humidity</th>\n",
       "      <th>WindDirection(Degrees)</th>\n",
       "      <th>Speed</th>\n",
       "    </tr>\n",
       "    <tr>\n",
       "      <th>Month</th>\n",
       "      <th></th>\n",
       "      <th></th>\n",
       "      <th></th>\n",
       "      <th></th>\n",
       "      <th></th>\n",
       "      <th></th>\n",
       "    </tr>\n",
       "  </thead>\n",
       "  <tbody>\n",
       "    <tr>\n",
       "      <th>9</th>\n",
       "      <td>230.922617</td>\n",
       "      <td>12.065056</td>\n",
       "      <td>30.432007</td>\n",
       "      <td>79.512673</td>\n",
       "      <td>134.946773</td>\n",
       "      <td>5.446916</td>\n",
       "    </tr>\n",
       "    <tr>\n",
       "      <th>10</th>\n",
       "      <td>228.713542</td>\n",
       "      <td>11.347042</td>\n",
       "      <td>30.438454</td>\n",
       "      <td>78.773099</td>\n",
       "      <td>126.483914</td>\n",
       "      <td>5.890439</td>\n",
       "    </tr>\n",
       "    <tr>\n",
       "      <th>11</th>\n",
       "      <td>226.176400</td>\n",
       "      <td>10.431639</td>\n",
       "      <td>30.445855</td>\n",
       "      <td>62.457502</td>\n",
       "      <td>134.845404</td>\n",
       "      <td>6.851295</td>\n",
       "    </tr>\n",
       "    <tr>\n",
       "      <th>12</th>\n",
       "      <td>141.420821</td>\n",
       "      <td>8.606628</td>\n",
       "      <td>30.374475</td>\n",
       "      <td>79.373581</td>\n",
       "      <td>177.916623</td>\n",
       "      <td>6.762705</td>\n",
       "    </tr>\n",
       "  </tbody>\n",
       "</table>\n",
       "</div>"
      ],
      "text/plain": [
       "        Radiation  Temperature   Pressure   Humidity  WindDirection(Degrees)  \\\n",
       "Month                                                                          \n",
       "9      230.922617    12.065056  30.432007  79.512673              134.946773   \n",
       "10     228.713542    11.347042  30.438454  78.773099              126.483914   \n",
       "11     226.176400    10.431639  30.445855  62.457502              134.845404   \n",
       "12     141.420821     8.606628  30.374475  79.373581              177.916623   \n",
       "\n",
       "          Speed  \n",
       "Month            \n",
       "9      5.446916  \n",
       "10     5.890439  \n",
       "11     6.851295  \n",
       "12     6.762705  "
      ]
     },
     "execution_count": 22,
     "metadata": {},
     "output_type": "execute_result"
    }
   ],
   "source": [
    "# Using the pandas method \"groupby\" we can groupy our features in respect to the column \"Month\"\n",
    "\n",
    "df_strat.groupby(['Month']).mean() # Mean values of every feature for each month"
   ]
  },
  {
   "cell_type": "code",
   "execution_count": 23,
   "metadata": {},
   "outputs": [
    {
     "data": {
      "image/png": "[encoded data removed]",
      "text/plain": [
       "<Figure size 432x288 with 1 Axes>"
      ]
     },
     "metadata": {
      "needs_background": "light"
     },
     "output_type": "display_data"
    }
   ],
   "source": [
    "#Creating a bar plot of the mean temperature(Celsius) of a given month\n",
    "\n",
    "mean_temperature_month = Data.groupby(['Month']).mean()[\"Temperature\"].values #array with the mean temperature of each month\n",
    "\n",
    "fig = plt.figure()\n",
    "ax = fig.add_axes([0,0,1,1])\n",
    "str_months = [\"September\", \"October\", \"November\", \"December\"]\n",
    "ax.bar(str_months,mean_temperature_month)\n",
    "plt.ylabel(\"Temperature(ºC)\")\n",
    "plt.title(\"Mean Temperature\",fontweight=\"bold\")\n",
    "\n",
    "\n",
    "#We can stylize it better, taking a break now... \n",
    "\n",
    "plt.show()"
   ]
  },
  {
   "cell_type": "markdown",
   "metadata": {},
   "source": [
    "# Preparing the data for Machine Learning Algorithms"
   ]
  },
  {
   "cell_type": "code",
   "execution_count": 24,
   "metadata": {},
   "outputs": [],
   "source": [
    "#Separing the predictions and labels, since we don´t necessarily want to apply the same transformations on then\n",
    "\n",
    "train_set = strat_train_set.drop(\"Radiation\", axis=1) # Remove the target feature\n",
    "train_set_labels = strat_train_set[\"Radiation\"].copy() # Labels for supervised learning"
   ]
  },
  {
   "cell_type": "markdown",
   "metadata": {},
   "source": [
    "# Feature Scaling"
   ]
  },
  {
   "cell_type": "markdown",
   "metadata": {},
   "source": [
    "We will apply a standardization sacaling using the StandardScaler class"
   ]
  },
  {
   "cell_type": "code",
   "execution_count": 25,
   "metadata": {},
   "outputs": [],
   "source": [
    "from sklearn.pipeline import Pipeline\n",
    "from sklearn.preprocessing import StandardScaler"
   ]
  },
  {
   "cell_type": "code",
   "execution_count": 26,
   "metadata": {},
   "outputs": [],
   "source": [
    "#Pipeline for the numerical data\n",
    "\n",
    "pipeline = Pipeline([\n",
    "    ('std_scaler',StandardScaler())\n",
    "])\n",
    "\n",
    "transf_train_set = pipeline.fit_transform(train_set)"
   ]
  },
  {
   "cell_type": "code",
   "execution_count": 27,
   "metadata": {},
   "outputs": [
    {
     "data": {
      "text/plain": [
       "array([[-0.45991884,  0.67807189, -0.65168962,  0.4018285 , -0.82602422,\n",
       "        -1.39187709],\n",
       "       [-0.74827654,  0.86092934, -1.18949916,  0.49902506, -0.50197625,\n",
       "         0.43343021],\n",
       "       [-1.03663424, -1.33336002,  0.69283424,  0.47824014, -1.47125248,\n",
       "         1.34608385],\n",
       "       ...,\n",
       "       [ 0.98186965,  0.67807189, -1.91938354, -0.64390556,  0.78848028,\n",
       "         0.43343021],\n",
       "       [-0.45991884,  0.49521444,  0.34709953,  0.39810404,  1.10966057,\n",
       "        -0.47922344],\n",
       "       [-0.17156114, -0.96764513,  1.03856894, -1.40970392, -1.47125248,\n",
       "         1.34608385]])"
      ]
     },
     "execution_count": 27,
     "metadata": {},
     "output_type": "execute_result"
    }
   ],
   "source": [
    "transf_train_set"
   ]
  },
  {
   "cell_type": "markdown",
   "metadata": {},
   "source": [
    "# Select and Train a Model"
   ]
  },
  {
   "cell_type": "code",
   "execution_count": 28,
   "metadata": {},
   "outputs": [],
   "source": [
    "# First of all we import some models that we want to evaluate\n",
    "\n",
    "from sklearn.linear_model import LinearRegression\n",
    "from sklearn.tree import DecisionTreeRegressor\n",
    "from sklearn.ensemble import RandomForestRegressor\n",
    "from sklearn.linear_model import LogisticRegression"
   ]
  },
  {
   "cell_type": "markdown",
   "metadata": {},
   "source": [
    "We extremely recomend that you create a function to automate the following steps.\n",
    "We hardcoded those steps because we are evaluating just 3 models, but you definitely should have function for it and for future projects too."
   ]
  },
  {
   "cell_type": "markdown",
   "metadata": {},
   "source": [
    "### Models"
   ]
  },
  {
   "cell_type": "code",
   "execution_count": 29,
   "metadata": {},
   "outputs": [
    {
     "data": {
      "text/plain": [
       "RandomForestRegressor(bootstrap=True, ccp_alpha=0.0, criterion='mse',\n",
       "                      max_depth=None, max_features='auto', max_leaf_nodes=None,\n",
       "                      max_samples=None, min_impurity_decrease=0.0,\n",
       "                      min_impurity_split=None, min_samples_leaf=1,\n",
       "                      min_samples_split=2, min_weight_fraction_leaf=0.0,\n",
       "                      n_estimators=100, n_jobs=None, oob_score=False,\n",
       "                      random_state=None, verbose=0, warm_start=False)"
      ]
     },
     "execution_count": 29,
     "metadata": {},
     "output_type": "execute_result"
    }
   ],
   "source": [
    "# Linear Regression:\n",
    "lin_reg = LinearRegression()\n",
    "lin_reg.fit(transf_train_set, train_set_labels)\n",
    "\n",
    "# DecionTreeRegressor:\n",
    "tree_reg = DecisionTreeRegressor()\n",
    "tree_reg.fit(transf_train_set, train_set_labels)\n",
    "\n",
    "# RandomForestRegressor\n",
    "forest_reg = RandomForestRegressor()\n",
    "forest_reg.fit(transf_train_set, train_set_labels)\n"
   ]
  },
  {
   "cell_type": "markdown",
   "metadata": {},
   "source": [
    "## Evaluating Using Cross-Validation"
   ]
  },
  {
   "cell_type": "code",
   "execution_count": 30,
   "metadata": {},
   "outputs": [],
   "source": [
    "from sklearn.model_selection import cross_val_score"
   ]
  },
  {
   "cell_type": "code",
   "execution_count": 31,
   "metadata": {},
   "outputs": [],
   "source": [
    "# Evaluating Linear Regression:\n",
    "scores_lin_reg = cross_val_score(lin_reg, transf_train_set, train_set_labels,\n",
    "                         scoring=\"r2\", cv=10) \n",
    "\n",
    "\n",
    "\n",
    "# Evaluating Decion Tree Regressor:\n",
    "scores_tree_reg = cross_val_score(tree_reg, transf_train_set, train_set_labels,\n",
    "                         scoring=\"r2\", cv=10) \n",
    "\n",
    "\n",
    "\n",
    "\n",
    "# Evaluating Random Forest Regressor:\n",
    "scores_forest_reg = cross_val_score(forest_reg, transf_train_set, train_set_labels,\n",
    "                         scoring=\"r2\", cv=10) \n"
   ]
  },
  {
   "cell_type": "code",
   "execution_count": 32,
   "metadata": {},
   "outputs": [],
   "source": [
    "def display_scores(scores):\n",
    "    print(f\"Mean: {round(scores.mean(),2)}\")\n",
    "    print(f\"Standard deviation: {round(np.std(scores, ddof=1),2)}\") # We set ddof=1 because we are calculating a sample standard deviation\n",
    "    # The default parameter consider a population standard deviation\n",
    "    return \"\""
   ]
  },
  {
   "cell_type": "code",
   "execution_count": 33,
   "metadata": {},
   "outputs": [
    {
     "name": "stdout",
     "output_type": "stream",
     "text": [
      "Lin. Reg.  r^2 score:\n",
      "Mean: 0.5830303018996685\n",
      "Standard deviation: 0.010468448057657636\n",
      "\n",
      "Decision Tree Reg. r^2 score:\n",
      "Mean: 0.6008206535821279\n",
      "Standard deviation: 0.0325932558214242\n",
      "\n",
      "Random Forest Reg. r^2 score:\n",
      "Mean: 0.7922518881906304\n",
      "Standard deviation: 0.010561050959488448\n",
      "\n"
     ]
    }
   ],
   "source": [
    "scores = [scores_lin_reg, scores_tree_reg, scores_forest_reg]\n",
    "models = [\"Lin. Reg. \", \"Decision Tree Reg.\", \"Random Forest Reg.\"]\n",
    "\n",
    "for model, score in zip(models,scores):\n",
    "    print(f\"{model} r^2 score:\")\n",
    "    print(display_scores(score))  "
   ]
  },
  {
   "cell_type": "markdown",
   "metadata": {},
   "source": [
    "### Saving our models and their respective score"
   ]
  },
  {
   "cell_type": "code",
   "execution_count": 34,
   "metadata": {},
   "outputs": [],
   "source": [
    "#import joblib"
   ]
  },
  {
   "cell_type": "code",
   "execution_count": 35,
   "metadata": {},
   "outputs": [],
   "source": [
    "# We should save our models and scores so that we can compare after tunning\n",
    "\n",
    "#Linear Regression\n",
    "#joblib.dump(lin_reg.fit(transf_train_set, train_set_labels), \"lin_reg_model.pkl\") #model already fitted\n",
    "#joblib.dump(lin_reg_rmse_scores, \"lin_reg_scores.pkl\") # Scores\n",
    "\n",
    "#Decison Tree Regression\n",
    "#joblib.dump(tree_reg.fit(transf_train_set, train_set_labels), \"tree_reg_model.pkl\") #model already fitted\n",
    "#joblib.dump(tree_reg_rmse_scores, \"tree_reg_scores.pkl\") # Scores\n",
    "\n",
    "#Random Forest Regression\n",
    "#joblib.dump(forest_reg.fit(transf_train_set, train_set_labels), \"forest_reg_model.pkl\") #model already fitted\n",
    "#joblib.dump(forest_reg_rmse_scores, \"forest_reg_scores.pkl\") # Scores"
   ]
  },
  {
   "cell_type": "markdown",
   "metadata": {},
   "source": [
    "*Some files are too large (\"forest_reg_model.pkl\"), exceed git's file size limits* \n",
    "For that reason we are not saving those models anymore... \n",
    "\n",
    "\n",
    "     You may want to try Git Large File Storage - https://git-lfs.github.com. "
   ]
  },
  {
   "cell_type": "markdown",
   "metadata": {},
   "source": [
    "## Fine-Tunning "
   ]
  },
  {
   "cell_type": "markdown",
   "metadata": {},
   "source": [
    "For tunning the models we will use the Grid Search method"
   ]
  },
  {
   "cell_type": "markdown",
   "metadata": {},
   "source": [
    "### Grid Search"
   ]
  },
  {
   "cell_type": "code",
   "execution_count": 36,
   "metadata": {},
   "outputs": [],
   "source": [
    "from sklearn.model_selection import GridSearchCV"
   ]
  },
  {
   "cell_type": "code",
   "execution_count": 37,
   "metadata": {},
   "outputs": [
    {
     "data": {
      "text/plain": [
       "GridSearchCV(cv=5, error_score=nan,\n",
       "             estimator=RandomForestRegressor(bootstrap=True, ccp_alpha=0.0,\n",
       "                                             criterion='mse', max_depth=None,\n",
       "                                             max_features='auto',\n",
       "                                             max_leaf_nodes=None,\n",
       "                                             max_samples=None,\n",
       "                                             min_impurity_decrease=0.0,\n",
       "                                             min_impurity_split=None,\n",
       "                                             min_samples_leaf=1,\n",
       "                                             min_samples_split=2,\n",
       "                                             min_weight_fraction_leaf=0.0,\n",
       "                                             n_estimators=100, n_jobs=None,\n",
       "                                             oob_score=False, random_state=None,\n",
       "                                             verbose=0, warm_start=False),\n",
       "             iid='deprecated', n_jobs=None,\n",
       "             param_grid=[{'max_features': [2, 3, 4, 5, 6],\n",
       "                          'n_estimators': [20, 40, 60, 80, 100]},\n",
       "                         {'bootstrap': [True, False], 'max_features': [2, 3, 4],\n",
       "                          'n_estimators': [3, 10]}],\n",
       "             pre_dispatch='2*n_jobs', refit=True, return_train_score=True,\n",
       "             scoring='r2', verbose=0)"
      ]
     },
     "execution_count": 37,
     "metadata": {},
     "output_type": "execute_result"
    }
   ],
   "source": [
    "# GridSearch in the Linear Regression Model\n",
    "param_lin = {'fit_intercept':[True,False], 'normalize':[True,False], 'copy_X':[True, False]}\n",
    "\n",
    "grid_search_linear = GridSearchCV(lin_reg, param_lin, cv=5, \n",
    "                           scoring='r2',\n",
    "                           return_train_score=True)\n",
    "\n",
    "grid_search_linear.fit(transf_train_set, train_set_labels)\n",
    "\n",
    "\n",
    "# GridSearch in the Decision Tree Regression Model\n",
    "# In the next cell\n",
    "\n",
    "\n",
    "# GridSearch in the Random Forest Model\n",
    "param_forest = [   \n",
    "    {'n_estimators': [20,40,60,80,100], 'max_features': [2,3,4,5,6]},\n",
    "    {'bootstrap': [True,False], 'n_estimators': [3, 10], 'max_features': [2, 3, 4]}, \n",
    "]\n",
    "\n",
    "grid_search_forest = GridSearchCV(forest_reg, param_forest, cv=5, \n",
    "                           scoring='r2',\n",
    "                           return_train_score=True)\n",
    "\n",
    "grid_search_forest.fit(transf_train_set, train_set_labels)\n",
    "\n"
   ]
  },
  {
   "cell_type": "code",
   "execution_count": 53,
   "metadata": {},
   "outputs": [
    {
     "data": {
      "text/plain": [
       "GridSearchCV(cv=10, error_score=nan,\n",
       "             estimator=DecisionTreeRegressor(ccp_alpha=0.0, criterion='mse',\n",
       "                                             max_depth=None, max_features=None,\n",
       "                                             max_leaf_nodes=None,\n",
       "                                             min_impurity_decrease=0.0,\n",
       "                                             min_impurity_split=None,\n",
       "                                             min_samples_leaf=1,\n",
       "                                             min_samples_split=2,\n",
       "                                             min_weight_fraction_leaf=0.0,\n",
       "                                             presort='deprecated',\n",
       "                                             random_state=None,\n",
       "                                             splitter='best'),\n",
       "             iid='deprecated', n_jobs=None,\n",
       "             param_grid={'min_samples_split': [2, 3, 4, 5, 6, 7, 8, 9, 10, 11,\n",
       "                                               12, 13, 14, 15, 16, 17, 18, 19,\n",
       "                                               20, 21, 22, 23, 24, 25, 26, 27,\n",
       "                                               28, 29, 30, 31, ...]},\n",
       "             pre_dispatch='2*n_jobs', refit=True, return_train_score=False,\n",
       "             scoring='r2', verbose=0)"
      ]
     },
     "execution_count": 53,
     "metadata": {},
     "output_type": "execute_result"
    }
   ],
   "source": [
    "# GridSearch in the Decision Tree Regression Model\n",
    "\n",
    "\n",
    "# https://www.ritchieng.com/machine-learning-decision-trees/\n",
    "\n",
    "# Define the parameter values that should be searched\n",
    "sample_split_range = list(range(2, 50))\n",
    "\n",
    "# Create a parameter grid: map the parameter names to the values that should be searched\n",
    "# Simply a python dictionary\n",
    "# Key: parameter name\n",
    "# Value: list of values that should be searched for that parameter\n",
    "# Single key-value pair for param_grid\n",
    "param_grid = dict(min_samples_split=sample_split_range)\n",
    "\n",
    "# instantiate the grid\n",
    "grid_search_DTree = GridSearchCV(tree_reg, param_grid, cv=10, scoring='r2')\n",
    "\n",
    "# fit the grid with data\n",
    "grid_search_DTree.fit(transf_train_set, train_set_labels)"
   ]
  },
  {
   "cell_type": "code",
   "execution_count": 54,
   "metadata": {},
   "outputs": [
    {
     "name": "stdout",
     "output_type": "stream",
     "text": [
      "Lin. Reg. best parameters: {'copy_X': True, 'fit_intercept': True, 'normalize': True}\n",
      "Decision Tree best parameters: {'min_samples_split': 48}\n",
      "Random Forest best parameters: {'max_features': 4, 'n_estimators': 100}\n"
     ]
    }
   ],
   "source": [
    "print(f\"Lin. Reg. best parameters: {grid_search_linear.best_params_}\")\n",
    "print(f\"Decision Tree best parameters: {grid_search_DTree.best_params_}\")\n",
    "print(f\"Random Forest best parameters: {grid_search_forest.best_params_}\")"
   ]
  },
  {
   "cell_type": "markdown",
   "metadata": {},
   "source": [
    "### Feature importance"
   ]
  },
  {
   "cell_type": "code",
   "execution_count": 39,
   "metadata": {},
   "outputs": [],
   "source": [
    "attribs = list(train_set)"
   ]
  },
  {
   "cell_type": "code",
   "execution_count": 40,
   "metadata": {
    "scrolled": true
   },
   "outputs": [
    {
     "data": {
      "text/plain": [
       "[(0.5183785579082296, 'Temperature'),\n",
       " (0.184936358322232, 'WindDirection(Degrees)'),\n",
       " (0.1291688105228645, 'Humidity'),\n",
       " (0.06933758123961874, 'Pressure'),\n",
       " (0.0535883841748091, 'Speed'),\n",
       " (0.0445903078322461, 'Month')]"
      ]
     },
     "execution_count": 40,
     "metadata": {},
     "output_type": "execute_result"
    }
   ],
   "source": [
    "# Random Forest Regression\n",
    "feature_importances = grid_search_forest.best_estimator_.feature_importances_\n",
    "sorted(zip(feature_importances, attribs), reverse=True) "
   ]
  },
  {
   "cell_type": "markdown",
   "metadata": {},
   "source": [
    "Should we drop some features??? "
   ]
  },
  {
   "cell_type": "markdown",
   "metadata": {},
   "source": [
    "### Using cross-validation in the final Random Forest model"
   ]
  },
  {
   "cell_type": "markdown",
   "metadata": {},
   "source": [
    "##### The r^2 method"
   ]
  },
  {
   "cell_type": "code",
   "execution_count": 94,
   "metadata": {},
   "outputs": [
    {
     "name": "stdout",
     "output_type": "stream",
     "text": [
      "Mean: 0.7931095693933424\n",
      "Standard deviation: 0.011274091133040592\n",
      "\n"
     ]
    }
   ],
   "source": [
    "final_model = grid_search_forest.best_estimator_\n",
    "\n",
    "\n",
    "final_train_score = cross_val_score(final_model, transf_train_set, train_set_labels,   #r^2 score of the train set in the final model\n",
    "                         scoring=\"r2\", cv=10) \n",
    "\n",
    "forest_r2_train_score = round(final_train_score.mean(),2)\n",
    "\n",
    "print(display_scores(final_train_score))"
   ]
  },
  {
   "cell_type": "code",
   "execution_count": 95,
   "metadata": {},
   "outputs": [
    {
     "name": "stdout",
     "output_type": "stream",
     "text": [
      "Mean: 0.7371576471684713\n",
      "Standard deviation: 0.019550145361425478\n",
      "\n"
     ]
    }
   ],
   "source": [
    "X_test = strat_test_set.drop(\"Radiation\", axis=1) #Test set\n",
    "y_test = strat_test_set[\"Radiation\"].copy()       #Test set label\n",
    "\n",
    "X_test_prepared = pipeline.fit_transform(X_test)  #Using the Standarlization method in the Test set\n",
    "\n",
    "\n",
    "final_test_score = cross_val_score(final_model, X_test_prepared, y_test, #r^2 score of the test set in the final model\n",
    "                         scoring=\"r2\", cv=10) \n",
    "\n",
    "forest_r2_test_score = round(final_test_score.mean(),2)\n",
    "\n",
    "print(display_scores(final_test_score))"
   ]
  },
  {
   "cell_type": "markdown",
   "metadata": {},
   "source": [
    "As you can see the mean r^2 evaluated in the train set and in the test set have an error of 6.3% compared with each other.\n",
    "\n",
    "It means that the model did not over fit the train set data and had a very similar performance in the test set (unseen/new data)"
   ]
  },
  {
   "cell_type": "markdown",
   "metadata": {},
   "source": [
    "##### The rmse method"
   ]
  },
  {
   "cell_type": "code",
   "execution_count": 96,
   "metadata": {},
   "outputs": [
    {
     "name": "stdout",
     "output_type": "stream",
     "text": [
      "Mean: 143.80428616007163\n",
      "Standard deviation: 4.106087534783057\n",
      "\n"
     ]
    }
   ],
   "source": [
    "#Train set\n",
    "\n",
    "final_train_score = cross_val_score(final_model, transf_train_set, train_set_labels,\n",
    "                         scoring=\"neg_mean_squared_error\", cv=10) \n",
    "\n",
    "forest_rmse_scores = np.sqrt(-final_train_score)\n",
    "\n",
    "print(display_scores(forest_rmse_scores))"
   ]
  },
  {
   "cell_type": "code",
   "execution_count": 97,
   "metadata": {},
   "outputs": [
    {
     "name": "stdout",
     "output_type": "stream",
     "text": [
      "Mean: 162.77770484430494\n",
      "Standard deviation: 9.382276564520913\n",
      "\n"
     ]
    }
   ],
   "source": [
    "#Test set\n",
    "\n",
    "final_test_score = cross_val_score(final_model, X_test_prepared, y_test,\n",
    "                         scoring=\"neg_mean_squared_error\", cv=10) \n",
    "\n",
    "forest_rmse_scores = np.sqrt(-final_test_score)\n",
    "\n",
    "print(display_scores(forest_rmse_scores))"
   ]
  },
  {
   "cell_type": "markdown",
   "metadata": {},
   "source": [
    "It's clear that the model did not perfomed as well in the rmse validation, with an error between the train set and the test set of 14%.\n",
    "\n",
    "I couldn't figure out why the rmse value is so high, neither why it has a greater error between the sets than in the r^2..."
   ]
  },
  {
   "cell_type": "markdown",
   "metadata": {},
   "source": [
    "### Using cross-validation in the final Linear Regression model"
   ]
  },
  {
   "cell_type": "markdown",
   "metadata": {},
   "source": [
    "##### The r^2 method"
   ]
  },
  {
   "cell_type": "code",
   "execution_count": 98,
   "metadata": {},
   "outputs": [
    {
     "name": "stdout",
     "output_type": "stream",
     "text": [
      "Mean: 0.5830303018996685\n",
      "Standard deviation: 0.010468448057657558\n",
      "\n"
     ]
    }
   ],
   "source": [
    "final_model = grid_search_linear.best_estimator_\n",
    "\n",
    "\n",
    "final_train_score = cross_val_score(final_model, transf_train_set, train_set_labels,   #r^2 score of the train set in the final model\n",
    "                         scoring=\"r2\", cv=10) \n",
    "\n",
    "linear_r2_train_score = round(final_train_score.mean(),2)\n",
    "\n",
    "print(display_scores(final_train_score))"
   ]
  },
  {
   "cell_type": "code",
   "execution_count": 99,
   "metadata": {},
   "outputs": [
    {
     "name": "stdout",
     "output_type": "stream",
     "text": [
      "Mean: 0.5769749459038583\n",
      "Standard deviation: 0.02647149647135664\n",
      "\n"
     ]
    }
   ],
   "source": [
    "X_test = strat_test_set.drop(\"Radiation\", axis=1) #Test set\n",
    "y_test = strat_test_set[\"Radiation\"].copy()       #Test set label\n",
    "\n",
    "X_test_prepared = pipeline.fit_transform(X_test)  #Using the Standarlization method in the Test set\n",
    "\n",
    "\n",
    "final_test_score = cross_val_score(final_model, X_test_prepared, y_test, #r^2 score of the test set in the final model\n",
    "                         scoring=\"r2\", cv=10) \n",
    "\n",
    "linear_r2_test_score = round(final_test_score.mean(),2)\n",
    "\n",
    "print(display_scores(final_test_score))"
   ]
  },
  {
   "cell_type": "markdown",
   "metadata": {},
   "source": [
    "##### The rmse method"
   ]
  },
  {
   "cell_type": "code",
   "execution_count": 100,
   "metadata": {},
   "outputs": [
    {
     "name": "stdout",
     "output_type": "stream",
     "text": [
      "Mean: 203.52910611379292\n",
      "Standard deviation: 3.002968058212344\n",
      "\n"
     ]
    }
   ],
   "source": [
    "#Train set\n",
    "\n",
    "final_train_score = cross_val_score(final_model, transf_train_set, train_set_labels,\n",
    "                         scoring=\"neg_mean_squared_error\", cv=10) \n",
    "\n",
    "linear_rmse_scores = np.sqrt(-final_train_score)\n",
    "\n",
    "print(display_scores(linear_rmse_scores))"
   ]
  },
  {
   "cell_type": "code",
   "execution_count": 101,
   "metadata": {},
   "outputs": [
    {
     "name": "stdout",
     "output_type": "stream",
     "text": [
      "Mean: 206.6506328192148\n",
      "Standard deviation: 7.72781002446835\n",
      "\n"
     ]
    }
   ],
   "source": [
    "#Test set\n",
    "\n",
    "final_test_score = cross_val_score(final_model, X_test_prepared, y_test,\n",
    "                         scoring=\"neg_mean_squared_error\", cv=10) \n",
    "\n",
    "linear_rmse_scores = np.sqrt(-final_test_score)\n",
    "\n",
    "print(display_scores(linear_rmse_scores))"
   ]
  },
  {
   "cell_type": "markdown",
   "metadata": {},
   "source": [
    "### Using cross-validation in the final Decision Tree model"
   ]
  },
  {
   "cell_type": "markdown",
   "metadata": {},
   "source": [
    "##### The r^2 method"
   ]
  },
  {
   "cell_type": "code",
   "execution_count": 102,
   "metadata": {},
   "outputs": [
    {
     "name": "stdout",
     "output_type": "stream",
     "text": [
      "Mean: 0.7180672334736273\n",
      "Standard deviation: 0.015261980659288016\n",
      "\n"
     ]
    }
   ],
   "source": [
    "final_model = grid_search_DTree.best_estimator_\n",
    "\n",
    "\n",
    "final_train_score = cross_val_score(final_model, transf_train_set, train_set_labels,   #r^2 score of the train set in the final model\n",
    "                         scoring=\"r2\", cv=10) \n",
    "\n",
    "dtree_r2_train_score = round(final_train_score.mean(),2)\n",
    "\n",
    "print(display_scores(final_train_score))"
   ]
  },
  {
   "cell_type": "code",
   "execution_count": 103,
   "metadata": {},
   "outputs": [
    {
     "name": "stdout",
     "output_type": "stream",
     "text": [
      "Mean: 0.6660274581285222\n",
      "Standard deviation: 0.03417881712119377\n",
      "\n"
     ]
    }
   ],
   "source": [
    "X_test = strat_test_set.drop(\"Radiation\", axis=1) #Test set\n",
    "y_test = strat_test_set[\"Radiation\"].copy()       #Test set label\n",
    "\n",
    "X_test_prepared = pipeline.fit_transform(X_test)  #Using the Standarlization method in the Test set\n",
    "\n",
    "\n",
    "final_test_score = cross_val_score(final_model, X_test_prepared, y_test, #r^2 score of the test set in the final model\n",
    "                         scoring=\"r2\", cv=10) \n",
    "\n",
    "dtree_r2_test_score = round(final_test_score.mean(),2)\n",
    "\n",
    "print(display_scores(final_test_score))"
   ]
  },
  {
   "cell_type": "markdown",
   "metadata": {},
   "source": [
    "##### The rmse method"
   ]
  },
  {
   "cell_type": "code",
   "execution_count": 104,
   "metadata": {},
   "outputs": [
    {
     "name": "stdout",
     "output_type": "stream",
     "text": [
      "Mean: 167.30377986015714\n",
      "Standard deviation: 4.323285964090642\n",
      "\n"
     ]
    }
   ],
   "source": [
    "#Train set\n",
    "\n",
    "final_train_score = cross_val_score(final_model, transf_train_set, train_set_labels,\n",
    "                         scoring=\"neg_mean_squared_error\", cv=10) \n",
    "\n",
    "dtree_rmse_scores = np.sqrt(-final_train_score)\n",
    "\n",
    "print(display_scores(dtree_rmse_scores))"
   ]
  },
  {
   "cell_type": "code",
   "execution_count": 105,
   "metadata": {},
   "outputs": [
    {
     "name": "stdout",
     "output_type": "stream",
     "text": [
      "Mean: 183.49673254672746\n",
      "Standard deviation: 9.844130237276485\n",
      "\n"
     ]
    }
   ],
   "source": [
    "#Test set\n",
    "\n",
    "final_test_score = cross_val_score(final_model, X_test_prepared, y_test,\n",
    "                         scoring=\"neg_mean_squared_error\", cv=10) \n",
    "\n",
    "dtree_rmse_scores = np.sqrt(-final_test_score)\n",
    "\n",
    "print(display_scores(dtree_rmse_scores))"
   ]
  },
  {
   "cell_type": "markdown",
   "metadata": {},
   "source": [
    "### Comparing the r2 score of all models"
   ]
  },
  {
   "cell_type": "code",
   "execution_count": 106,
   "metadata": {},
   "outputs": [
    {
     "name": "stdout",
     "output_type": "stream",
     "text": [
      "---Cross-validation R2 Scores---\n"
     ]
    },
    {
     "data": {
      "text/html": [
       "<div>\n",
       "<style scoped>\n",
       "    .dataframe tbody tr th:only-of-type {\n",
       "        vertical-align: middle;\n",
       "    }\n",
       "\n",
       "    .dataframe tbody tr th {\n",
       "        vertical-align: top;\n",
       "    }\n",
       "\n",
       "    .dataframe thead th {\n",
       "        text-align: right;\n",
       "    }\n",
       "</style>\n",
       "<table border=\"1\" class=\"dataframe\">\n",
       "  <thead>\n",
       "    <tr style=\"text-align: right;\">\n",
       "      <th></th>\n",
       "      <th>Model</th>\n",
       "      <th>Score</th>\n",
       "    </tr>\n",
       "  </thead>\n",
       "  <tbody>\n",
       "    <tr>\n",
       "      <th>2</th>\n",
       "      <td>Random Forest</td>\n",
       "      <td>0.79</td>\n",
       "    </tr>\n",
       "    <tr>\n",
       "      <th>1</th>\n",
       "      <td>Decision Tress</td>\n",
       "      <td>0.72</td>\n",
       "    </tr>\n",
       "    <tr>\n",
       "      <th>0</th>\n",
       "      <td>Linear Regression</td>\n",
       "      <td>0.58</td>\n",
       "    </tr>\n",
       "  </tbody>\n",
       "</table>\n",
       "</div>"
      ],
      "text/plain": [
       "               Model  Score\n",
       "2      Random Forest   0.79\n",
       "1     Decision Tress   0.72\n",
       "0  Linear Regression   0.58"
      ]
     },
     "execution_count": 106,
     "metadata": {},
     "output_type": "execute_result"
    }
   ],
   "source": [
    "# In the train set\n",
    "\n",
    "train_models = pd.DataFrame({\n",
    "    'Model': [\n",
    "        'Linear Regression',\n",
    "        'Decision Tress',\n",
    "        'Random Forest'\n",
    "    ],\n",
    "    'Score': [\n",
    "        linear_r2_train_score,\n",
    "        dtree_r2_train_score,\n",
    "        forest_r2_train_score\n",
    "    ]})\n",
    "\n",
    "print('---Cross-validation R2 Scores---')\n",
    "train_models.sort_values(by='Score', ascending=False)"
   ]
  },
  {
   "cell_type": "code",
   "execution_count": 107,
   "metadata": {},
   "outputs": [
    {
     "name": "stdout",
     "output_type": "stream",
     "text": [
      "---Cross-validation R2 Scores---\n"
     ]
    },
    {
     "data": {
      "text/html": [
       "<div>\n",
       "<style scoped>\n",
       "    .dataframe tbody tr th:only-of-type {\n",
       "        vertical-align: middle;\n",
       "    }\n",
       "\n",
       "    .dataframe tbody tr th {\n",
       "        vertical-align: top;\n",
       "    }\n",
       "\n",
       "    .dataframe thead th {\n",
       "        text-align: right;\n",
       "    }\n",
       "</style>\n",
       "<table border=\"1\" class=\"dataframe\">\n",
       "  <thead>\n",
       "    <tr style=\"text-align: right;\">\n",
       "      <th></th>\n",
       "      <th>Model</th>\n",
       "      <th>Score</th>\n",
       "    </tr>\n",
       "  </thead>\n",
       "  <tbody>\n",
       "    <tr>\n",
       "      <th>2</th>\n",
       "      <td>Random Forest</td>\n",
       "      <td>0.74</td>\n",
       "    </tr>\n",
       "    <tr>\n",
       "      <th>1</th>\n",
       "      <td>Decision Tress</td>\n",
       "      <td>0.67</td>\n",
       "    </tr>\n",
       "    <tr>\n",
       "      <th>0</th>\n",
       "      <td>Linear Regression</td>\n",
       "      <td>0.58</td>\n",
       "    </tr>\n",
       "  </tbody>\n",
       "</table>\n",
       "</div>"
      ],
      "text/plain": [
       "               Model  Score\n",
       "2      Random Forest   0.74\n",
       "1     Decision Tress   0.67\n",
       "0  Linear Regression   0.58"
      ]
     },
     "execution_count": 107,
     "metadata": {},
     "output_type": "execute_result"
    }
   ],
   "source": [
    "# In the test set\n",
    "\n",
    "test_models = pd.DataFrame({\n",
    "    'Model': [\n",
    "        'Linear Regression',\n",
    "        'Decision Tress',\n",
    "        'Random Forest'\n",
    "    ],\n",
    "    'Score': [\n",
    "        linear_r2_test_score,\n",
    "        dtree_r2_test_score,\n",
    "        forest_r2_test_score\n",
    "    ]})\n",
    "\n",
    "print('---Cross-validation R2 Scores---')\n",
    "test_models.sort_values(by='Score', ascending=False)\n"
   ]
  },
  {
   "cell_type": "markdown",
   "metadata": {},
   "source": [
    "As shown the Random Forest model performed better until now... \n",
    "\n",
    "Unfortunely we hardcoded all of this, I guess we can automate some parts and them try some others models (e.g Logistic Regression,  XGBoost, etc). The downside is that we don´t have a deeper understanding of how those models work yet, wich can cause some issues in the result´s interpretation (we don´t even understand the already used models). In the other hand, sklearn make vary easy to use any of those models... "
   ]
  },
  {
   "cell_type": "code",
   "execution_count": null,
   "metadata": {},
   "outputs": [],
   "source": []
  }
 ],
 "metadata": {
  "kernelspec": {
   "display_name": "Python 3",
   "language": "python",
   "name": "python3"
  },
  "language_info": {
   "codemirror_mode": {
    "name": "ipython",
    "version": 3
   },
   "file_extension": ".py",
   "mimetype": "text/x-python",
   "name": "python",
   "nbconvert_exporter": "python",
   "pygments_lexer": "ipython3",
   "version": "3.7.7"
  }
 },
 "nbformat": 4,
 "nbformat_minor": 4
}
